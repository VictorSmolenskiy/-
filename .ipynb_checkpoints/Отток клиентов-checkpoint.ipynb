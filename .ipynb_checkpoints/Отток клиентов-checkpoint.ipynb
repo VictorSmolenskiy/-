{
 "cells": [
  {
   "cell_type": "markdown",
   "metadata": {
    "toc": true
   },
   "source": [
    "<h1>Содержание<span class=\"tocSkip\"></span></h1>\n",
    "<div class=\"toc\"><ul class=\"toc-item\"><li><span><a href=\"#Подготовка-данных\" data-toc-modified-id=\"Подготовка-данных-1\"><span class=\"toc-item-num\">1&nbsp;&nbsp;</span>Подготовка данных</a></span><ul class=\"toc-item\"><li><span><a href=\"#Импорт-библиотек-и-модулей,-загрузка-данных\" data-toc-modified-id=\"Импорт-библиотек-и-модулей,-загрузка-данных-1.1\"><span class=\"toc-item-num\">1.1&nbsp;&nbsp;</span>Импорт библиотек и модулей, загрузка данных</a></span></li><li><span><a href=\"#Обработка-пропусков-в-данных,-преобразование-типов\" data-toc-modified-id=\"Обработка-пропусков-в-данных,-преобразование-типов-1.2\"><span class=\"toc-item-num\">1.2&nbsp;&nbsp;</span>Обработка пропусков в данных, преобразование типов</a></span></li><li><span><a href=\"#Удаление-лишних-столцов\" data-toc-modified-id=\"Удаление-лишних-столцов-1.3\"><span class=\"toc-item-num\">1.3&nbsp;&nbsp;</span>Удаление лишних столцов</a></span></li><li><span><a href=\"#Преобразование-категориальных-признаков-в-численные\" data-toc-modified-id=\"Преобразование-категориальных-признаков-в-численные-1.4\"><span class=\"toc-item-num\">1.4&nbsp;&nbsp;</span>Преобразование категориальных признаков в численные</a></span></li><li><span><a href=\"#Разбивка-данных-на-выборки\" data-toc-modified-id=\"Разбивка-данных-на-выборки-1.5\"><span class=\"toc-item-num\">1.5&nbsp;&nbsp;</span>Разбивка данных на выборки</a></span></li><li><span><a href=\"#Масштабирование-признаков\" data-toc-modified-id=\"Масштабирование-признаков-1.6\"><span class=\"toc-item-num\">1.6&nbsp;&nbsp;</span>Масштабирование признаков</a></span></li><li><span><a href=\"#Вывод\" data-toc-modified-id=\"Вывод-1.7\"><span class=\"toc-item-num\">1.7&nbsp;&nbsp;</span>Вывод</a></span></li></ul></li><li><span><a href=\"#Исследование-задачи\" data-toc-modified-id=\"Исследование-задачи-2\"><span class=\"toc-item-num\">2&nbsp;&nbsp;</span>Исследование задачи</a></span><ul class=\"toc-item\"><li><span><a href=\"#Исследуем-баланс-классов\" data-toc-modified-id=\"Исследуем-баланс-классов-2.1\"><span class=\"toc-item-num\">2.1&nbsp;&nbsp;</span>Исследуем баланс классов</a></span></li><li><span><a href=\"#Построение-моделей-без-учета-дисбаланса-классов\" data-toc-modified-id=\"Построение-моделей-без-учета-дисбаланса-классов-2.2\"><span class=\"toc-item-num\">2.2&nbsp;&nbsp;</span>Построение моделей без учета дисбаланса классов</a></span><ul class=\"toc-item\"><li><span><a href=\"#Дерево-решений\" data-toc-modified-id=\"Дерево-решений-2.2.1\"><span class=\"toc-item-num\">2.2.1&nbsp;&nbsp;</span>Дерево решений</a></span></li><li><span><a href=\"#Случайный-лес\" data-toc-modified-id=\"Случайный-лес-2.2.2\"><span class=\"toc-item-num\">2.2.2&nbsp;&nbsp;</span>Случайный лес</a></span></li><li><span><a href=\"#Логическая-регрессия\" data-toc-modified-id=\"Логическая-регрессия-2.2.3\"><span class=\"toc-item-num\">2.2.3&nbsp;&nbsp;</span>Логическая регрессия</a></span></li></ul></li><li><span><a href=\"#Вывод\" data-toc-modified-id=\"Вывод-2.3\"><span class=\"toc-item-num\">2.3&nbsp;&nbsp;</span>Вывод</a></span></li></ul></li><li><span><a href=\"#Борьба-с-дисбалансом\" data-toc-modified-id=\"Борьба-с-дисбалансом-3\"><span class=\"toc-item-num\">3&nbsp;&nbsp;</span>Борьба с дисбалансом</a></span><ul class=\"toc-item\"><li><span><a href=\"#Взвешивание-классов\" data-toc-modified-id=\"Взвешивание-классов-3.1\"><span class=\"toc-item-num\">3.1&nbsp;&nbsp;</span>Взвешивание классов</a></span><ul class=\"toc-item\"><li><span><a href=\"#Дерево-решений\" data-toc-modified-id=\"Дерево-решений-3.1.1\"><span class=\"toc-item-num\">3.1.1&nbsp;&nbsp;</span>Дерево решений</a></span></li><li><span><a href=\"#Случайный-лес\" data-toc-modified-id=\"Случайный-лес-3.1.2\"><span class=\"toc-item-num\">3.1.2&nbsp;&nbsp;</span>Случайный лес</a></span></li><li><span><a href=\"#Логическая-регрессия\" data-toc-modified-id=\"Логическая-регрессия-3.1.3\"><span class=\"toc-item-num\">3.1.3&nbsp;&nbsp;</span>Логическая регрессия</a></span></li></ul></li><li><span><a href=\"#Увеличение-выборки\" data-toc-modified-id=\"Увеличение-выборки-3.2\"><span class=\"toc-item-num\">3.2&nbsp;&nbsp;</span>Увеличение выборки</a></span><ul class=\"toc-item\"><li><span><a href=\"#Дерево-решений\" data-toc-modified-id=\"Дерево-решений-3.2.1\"><span class=\"toc-item-num\">3.2.1&nbsp;&nbsp;</span>Дерево решений</a></span></li><li><span><a href=\"#Случайный-лес\" data-toc-modified-id=\"Случайный-лес-3.2.2\"><span class=\"toc-item-num\">3.2.2&nbsp;&nbsp;</span>Случайный лес</a></span></li><li><span><a href=\"#Логическая-регрессия\" data-toc-modified-id=\"Логическая-регрессия-3.2.3\"><span class=\"toc-item-num\">3.2.3&nbsp;&nbsp;</span>Логическая регрессия</a></span></li></ul></li><li><span><a href=\"#Уменьшение-выборки\" data-toc-modified-id=\"Уменьшение-выборки-3.3\"><span class=\"toc-item-num\">3.3&nbsp;&nbsp;</span>Уменьшение выборки</a></span><ul class=\"toc-item\"><li><span><a href=\"#Дерево-решений\" data-toc-modified-id=\"Дерево-решений-3.3.1\"><span class=\"toc-item-num\">3.3.1&nbsp;&nbsp;</span>Дерево решений</a></span></li><li><span><a href=\"#Случайный-лес\" data-toc-modified-id=\"Случайный-лес-3.3.2\"><span class=\"toc-item-num\">3.3.2&nbsp;&nbsp;</span>Случайный лес</a></span></li><li><span><a href=\"#Логическая-регрессия\" data-toc-modified-id=\"Логическая-регрессия-3.3.3\"><span class=\"toc-item-num\">3.3.3&nbsp;&nbsp;</span>Логическая регрессия</a></span></li></ul></li><li><span><a href=\"#Вывод\" data-toc-modified-id=\"Вывод-3.4\"><span class=\"toc-item-num\">3.4&nbsp;&nbsp;</span>Вывод</a></span></li></ul></li><li><span><a href=\"#Тестирование-модели\" data-toc-modified-id=\"Тестирование-модели-4\"><span class=\"toc-item-num\">4&nbsp;&nbsp;</span>Тестирование модели</a></span><ul class=\"toc-item\"><li><span><a href=\"#Проверка-моделей-случайный-лес-на-тестовых-данных\" data-toc-modified-id=\"Проверка-моделей-случайный-лес-на-тестовых-данных-4.1\"><span class=\"toc-item-num\">4.1&nbsp;&nbsp;</span>Проверка моделей случайный лес на тестовых данных</a></span></li><li><span><a href=\"#ROC-кривая-моделей-случайный-лес\" data-toc-modified-id=\"ROC-кривая-моделей-случайный-лес-4.2\"><span class=\"toc-item-num\">4.2&nbsp;&nbsp;</span>ROC-кривая моделей случайный лес</a></span></li><li><span><a href=\"#Вывод\" data-toc-modified-id=\"Вывод-4.3\"><span class=\"toc-item-num\">4.3&nbsp;&nbsp;</span>Вывод</a></span></li></ul></li><li><span><a href=\"#Итоговый-вывод\" data-toc-modified-id=\"Итоговый-вывод-5\"><span class=\"toc-item-num\">5&nbsp;&nbsp;</span>Итоговый вывод</a></span></li><li><span><a href=\"#Чек-лист-готовности-проекта\" data-toc-modified-id=\"Чек-лист-готовности-проекта-6\"><span class=\"toc-item-num\">6&nbsp;&nbsp;</span>Чек-лист готовности проекта</a></span></li><li><span><a href=\"#Общий-вывод-по-проекту\" data-toc-modified-id=\"Общий-вывод-по-проекту-7\"><span class=\"toc-item-num\">7&nbsp;&nbsp;</span><b>Общий вывод по проекту</b></a></span></li><li><span><a href=\"#Общий-вывод-по-проекту-В2\" data-toc-modified-id=\"Общий-вывод-по-проекту-В2-8\"><span class=\"toc-item-num\">8&nbsp;&nbsp;</span><b>Общий вывод по проекту В2</b></a></span></li></ul></div>"
   ]
  },
  {
   "cell_type": "markdown",
   "metadata": {},
   "source": [
    "# Отток клиентов"
   ]
  },
  {
   "cell_type": "markdown",
   "metadata": {},
   "source": [
    "Из «Бета-Банка» стали уходить клиенты. Каждый месяц. Немного, но заметно. Банковские маркетологи посчитали: сохранять текущих клиентов дешевле, чем привлекать новых.\n",
    "\n",
    "Нужно спрогнозировать, уйдёт клиент из банка в ближайшее время или нет. Вам предоставлены исторические данные о поведении клиентов и расторжении договоров с банком. \n",
    "\n",
    "Постройте модель с предельно большим значением *F1*-меры. Чтобы сдать проект успешно, нужно довести метрику до 0.59. Проверьте *F1*-меру на тестовой выборке самостоятельно.\n",
    "\n",
    "Дополнительно измеряйте *AUC-ROC*, сравнивайте её значение с *F1*-мерой.\n",
    "\n",
    "Источник данных: [https://www.kaggle.com/barelydedicated/bank-customer-churn-modeling](https://www.kaggle.com/barelydedicated/bank-customer-churn-modeling)"
   ]
  },
  {
   "cell_type": "markdown",
   "metadata": {},
   "source": [
    "## Подготовка данных"
   ]
  },
  {
   "cell_type": "markdown",
   "metadata": {},
   "source": [
    "### Импорт библиотек и модулей, загрузка данных"
   ]
  },
  {
   "cell_type": "code",
   "execution_count": 1,
   "metadata": {},
   "outputs": [],
   "source": [
    "# Импорт необходимых библиотек, модулей и т.д.\n",
    "import pandas as pd\n",
    "from sklearn.tree import DecisionTreeClassifier\n",
    "from sklearn.ensemble import RandomForestClassifier\n",
    "from sklearn.linear_model import LogisticRegression\n",
    "from sklearn.model_selection import train_test_split\n",
    "from sklearn.preprocessing import StandardScaler\n",
    "from sklearn.metrics import f1_score, roc_auc_score, roc_curve\n",
    "from sklearn.utils import shuffle\n",
    "import matplotlib.pyplot as plt"
   ]
  },
  {
   "cell_type": "code",
   "execution_count": 2,
   "metadata": {},
   "outputs": [],
   "source": [
    "# Загрузка данных\n",
    "try:\n",
    "    data = pd.read_csv('/datasets/Churn.csv')\n",
    "except:\n",
    "    data = pd.read_csv('https://code.s3.yandex.net/datasets/Churn.csv')"
   ]
  },
  {
   "cell_type": "code",
   "execution_count": 3,
   "metadata": {},
   "outputs": [
    {
     "name": "stdout",
     "output_type": "stream",
     "text": [
      "<class 'pandas.core.frame.DataFrame'>\n",
      "RangeIndex: 10000 entries, 0 to 9999\n",
      "Data columns (total 14 columns):\n",
      " #   Column           Non-Null Count  Dtype  \n",
      "---  ------           --------------  -----  \n",
      " 0   RowNumber        10000 non-null  int64  \n",
      " 1   CustomerId       10000 non-null  int64  \n",
      " 2   Surname          10000 non-null  object \n",
      " 3   CreditScore      10000 non-null  int64  \n",
      " 4   Geography        10000 non-null  object \n",
      " 5   Gender           10000 non-null  object \n",
      " 6   Age              10000 non-null  int64  \n",
      " 7   Tenure           9091 non-null   float64\n",
      " 8   Balance          10000 non-null  float64\n",
      " 9   NumOfProducts    10000 non-null  int64  \n",
      " 10  HasCrCard        10000 non-null  int64  \n",
      " 11  IsActiveMember   10000 non-null  int64  \n",
      " 12  EstimatedSalary  10000 non-null  float64\n",
      " 13  Exited           10000 non-null  int64  \n",
      "dtypes: float64(3), int64(8), object(3)\n",
      "memory usage: 1.1+ MB\n"
     ]
    }
   ],
   "source": [
    "data.info()"
   ]
  },
  {
   "cell_type": "code",
   "execution_count": 4,
   "metadata": {},
   "outputs": [
    {
     "data": {
      "text/html": [
       "<div>\n",
       "<style scoped>\n",
       "    .dataframe tbody tr th:only-of-type {\n",
       "        vertical-align: middle;\n",
       "    }\n",
       "\n",
       "    .dataframe tbody tr th {\n",
       "        vertical-align: top;\n",
       "    }\n",
       "\n",
       "    .dataframe thead th {\n",
       "        text-align: right;\n",
       "    }\n",
       "</style>\n",
       "<table border=\"1\" class=\"dataframe\">\n",
       "  <thead>\n",
       "    <tr style=\"text-align: right;\">\n",
       "      <th></th>\n",
       "      <th>RowNumber</th>\n",
       "      <th>CustomerId</th>\n",
       "      <th>Surname</th>\n",
       "      <th>CreditScore</th>\n",
       "      <th>Geography</th>\n",
       "      <th>Gender</th>\n",
       "      <th>Age</th>\n",
       "      <th>Tenure</th>\n",
       "      <th>Balance</th>\n",
       "      <th>NumOfProducts</th>\n",
       "      <th>HasCrCard</th>\n",
       "      <th>IsActiveMember</th>\n",
       "      <th>EstimatedSalary</th>\n",
       "      <th>Exited</th>\n",
       "    </tr>\n",
       "  </thead>\n",
       "  <tbody>\n",
       "    <tr>\n",
       "      <th>0</th>\n",
       "      <td>1</td>\n",
       "      <td>15634602</td>\n",
       "      <td>Hargrave</td>\n",
       "      <td>619</td>\n",
       "      <td>France</td>\n",
       "      <td>Female</td>\n",
       "      <td>42</td>\n",
       "      <td>2.0</td>\n",
       "      <td>0.00</td>\n",
       "      <td>1</td>\n",
       "      <td>1</td>\n",
       "      <td>1</td>\n",
       "      <td>101348.88</td>\n",
       "      <td>1</td>\n",
       "    </tr>\n",
       "    <tr>\n",
       "      <th>1</th>\n",
       "      <td>2</td>\n",
       "      <td>15647311</td>\n",
       "      <td>Hill</td>\n",
       "      <td>608</td>\n",
       "      <td>Spain</td>\n",
       "      <td>Female</td>\n",
       "      <td>41</td>\n",
       "      <td>1.0</td>\n",
       "      <td>83807.86</td>\n",
       "      <td>1</td>\n",
       "      <td>0</td>\n",
       "      <td>1</td>\n",
       "      <td>112542.58</td>\n",
       "      <td>0</td>\n",
       "    </tr>\n",
       "    <tr>\n",
       "      <th>2</th>\n",
       "      <td>3</td>\n",
       "      <td>15619304</td>\n",
       "      <td>Onio</td>\n",
       "      <td>502</td>\n",
       "      <td>France</td>\n",
       "      <td>Female</td>\n",
       "      <td>42</td>\n",
       "      <td>8.0</td>\n",
       "      <td>159660.80</td>\n",
       "      <td>3</td>\n",
       "      <td>1</td>\n",
       "      <td>0</td>\n",
       "      <td>113931.57</td>\n",
       "      <td>1</td>\n",
       "    </tr>\n",
       "    <tr>\n",
       "      <th>3</th>\n",
       "      <td>4</td>\n",
       "      <td>15701354</td>\n",
       "      <td>Boni</td>\n",
       "      <td>699</td>\n",
       "      <td>France</td>\n",
       "      <td>Female</td>\n",
       "      <td>39</td>\n",
       "      <td>1.0</td>\n",
       "      <td>0.00</td>\n",
       "      <td>2</td>\n",
       "      <td>0</td>\n",
       "      <td>0</td>\n",
       "      <td>93826.63</td>\n",
       "      <td>0</td>\n",
       "    </tr>\n",
       "    <tr>\n",
       "      <th>4</th>\n",
       "      <td>5</td>\n",
       "      <td>15737888</td>\n",
       "      <td>Mitchell</td>\n",
       "      <td>850</td>\n",
       "      <td>Spain</td>\n",
       "      <td>Female</td>\n",
       "      <td>43</td>\n",
       "      <td>2.0</td>\n",
       "      <td>125510.82</td>\n",
       "      <td>1</td>\n",
       "      <td>1</td>\n",
       "      <td>1</td>\n",
       "      <td>79084.10</td>\n",
       "      <td>0</td>\n",
       "    </tr>\n",
       "  </tbody>\n",
       "</table>\n",
       "</div>"
      ],
      "text/plain": [
       "   RowNumber  CustomerId   Surname  CreditScore Geography  Gender  Age  \\\n",
       "0          1    15634602  Hargrave          619    France  Female   42   \n",
       "1          2    15647311      Hill          608     Spain  Female   41   \n",
       "2          3    15619304      Onio          502    France  Female   42   \n",
       "3          4    15701354      Boni          699    France  Female   39   \n",
       "4          5    15737888  Mitchell          850     Spain  Female   43   \n",
       "\n",
       "   Tenure    Balance  NumOfProducts  HasCrCard  IsActiveMember  \\\n",
       "0     2.0       0.00              1          1               1   \n",
       "1     1.0   83807.86              1          0               1   \n",
       "2     8.0  159660.80              3          1               0   \n",
       "3     1.0       0.00              2          0               0   \n",
       "4     2.0  125510.82              1          1               1   \n",
       "\n",
       "   EstimatedSalary  Exited  \n",
       "0        101348.88       1  \n",
       "1        112542.58       0  \n",
       "2        113931.57       1  \n",
       "3         93826.63       0  \n",
       "4         79084.10       0  "
      ]
     },
     "execution_count": 4,
     "metadata": {},
     "output_type": "execute_result"
    }
   ],
   "source": [
    "data.head()"
   ]
  },
  {
   "cell_type": "code",
   "execution_count": 5,
   "metadata": {},
   "outputs": [
    {
     "data": {
      "text/plain": [
       "0"
      ]
     },
     "execution_count": 5,
     "metadata": {},
     "output_type": "execute_result"
    }
   ],
   "source": [
    "data.duplicated().sum()"
   ]
  },
  {
   "cell_type": "markdown",
   "metadata": {},
   "source": [
    "### Обработка пропусков в данных, преобразование типов"
   ]
  },
  {
   "cell_type": "code",
   "execution_count": 6,
   "metadata": {},
   "outputs": [
    {
     "data": {
      "text/plain": [
       "array([ 2.,  1.,  8.,  7.,  4.,  6.,  3., 10.,  5.,  9.,  0., nan])"
      ]
     },
     "execution_count": 6,
     "metadata": {},
     "output_type": "execute_result"
    }
   ],
   "source": [
    "data['Tenure'].unique()"
   ]
  },
  {
   "cell_type": "markdown",
   "metadata": {},
   "source": [
    "В столбце `Tenure` (сколько лет человек является клиентом банка) есть пропуски."
   ]
  },
  {
   "cell_type": "code",
   "execution_count": 7,
   "metadata": {},
   "outputs": [],
   "source": [
    "#data['Tenure']=data['Tenure'].fillna(0).astype('int64')"
   ]
  },
  {
   "cell_type": "code",
   "execution_count": 8,
   "metadata": {},
   "outputs": [
    {
     "name": "stdout",
     "output_type": "stream",
     "text": [
      "<class 'pandas.core.frame.DataFrame'>\n",
      "Int64Index: 9091 entries, 0 to 9998\n",
      "Data columns (total 14 columns):\n",
      " #   Column           Non-Null Count  Dtype  \n",
      "---  ------           --------------  -----  \n",
      " 0   RowNumber        9091 non-null   int64  \n",
      " 1   CustomerId       9091 non-null   int64  \n",
      " 2   Surname          9091 non-null   object \n",
      " 3   CreditScore      9091 non-null   int64  \n",
      " 4   Geography        9091 non-null   object \n",
      " 5   Gender           9091 non-null   object \n",
      " 6   Age              9091 non-null   int64  \n",
      " 7   Tenure           9091 non-null   float64\n",
      " 8   Balance          9091 non-null   float64\n",
      " 9   NumOfProducts    9091 non-null   int64  \n",
      " 10  HasCrCard        9091 non-null   int64  \n",
      " 11  IsActiveMember   9091 non-null   int64  \n",
      " 12  EstimatedSalary  9091 non-null   float64\n",
      " 13  Exited           9091 non-null   int64  \n",
      "dtypes: float64(3), int64(8), object(3)\n",
      "memory usage: 1.0+ MB\n"
     ]
    }
   ],
   "source": [
    "data = data.dropna(subset=['Tenure'])\n",
    "data.info()"
   ]
  },
  {
   "cell_type": "markdown",
   "metadata": {},
   "source": [
    "### Удаление лишних столцов"
   ]
  },
  {
   "cell_type": "markdown",
   "metadata": {},
   "source": [
    "Часть столбцов для исследования не потребуется, удалим их."
   ]
  },
  {
   "cell_type": "code",
   "execution_count": 9,
   "metadata": {},
   "outputs": [
    {
     "name": "stdout",
     "output_type": "stream",
     "text": [
      "<class 'pandas.core.frame.DataFrame'>\n",
      "Int64Index: 9091 entries, 0 to 9998\n",
      "Data columns (total 11 columns):\n",
      " #   Column           Non-Null Count  Dtype  \n",
      "---  ------           --------------  -----  \n",
      " 0   CreditScore      9091 non-null   int64  \n",
      " 1   Geography        9091 non-null   object \n",
      " 2   Gender           9091 non-null   object \n",
      " 3   Age              9091 non-null   int64  \n",
      " 4   Tenure           9091 non-null   float64\n",
      " 5   Balance          9091 non-null   float64\n",
      " 6   NumOfProducts    9091 non-null   int64  \n",
      " 7   HasCrCard        9091 non-null   int64  \n",
      " 8   IsActiveMember   9091 non-null   int64  \n",
      " 9   EstimatedSalary  9091 non-null   float64\n",
      " 10  Exited           9091 non-null   int64  \n",
      "dtypes: float64(3), int64(6), object(2)\n",
      "memory usage: 852.3+ KB\n"
     ]
    }
   ],
   "source": [
    "data = data.drop(['RowNumber', 'CustomerId', 'Surname'], axis=1)\n",
    "data.info()"
   ]
  },
  {
   "cell_type": "markdown",
   "metadata": {},
   "source": [
    "### Преобразование категориальных признаков в численные"
   ]
  },
  {
   "cell_type": "markdown",
   "metadata": {},
   "source": [
    "Преобразование категориальных признаков в численные выполним техникой прямого кодирования"
   ]
  },
  {
   "cell_type": "code",
   "execution_count": 10,
   "metadata": {},
   "outputs": [
    {
     "data": {
      "text/html": [
       "<div>\n",
       "<style scoped>\n",
       "    .dataframe tbody tr th:only-of-type {\n",
       "        vertical-align: middle;\n",
       "    }\n",
       "\n",
       "    .dataframe tbody tr th {\n",
       "        vertical-align: top;\n",
       "    }\n",
       "\n",
       "    .dataframe thead th {\n",
       "        text-align: right;\n",
       "    }\n",
       "</style>\n",
       "<table border=\"1\" class=\"dataframe\">\n",
       "  <thead>\n",
       "    <tr style=\"text-align: right;\">\n",
       "      <th></th>\n",
       "      <th>CreditScore</th>\n",
       "      <th>Age</th>\n",
       "      <th>Tenure</th>\n",
       "      <th>Balance</th>\n",
       "      <th>NumOfProducts</th>\n",
       "      <th>HasCrCard</th>\n",
       "      <th>IsActiveMember</th>\n",
       "      <th>EstimatedSalary</th>\n",
       "      <th>Exited</th>\n",
       "      <th>Geography_Germany</th>\n",
       "      <th>Geography_Spain</th>\n",
       "      <th>Gender_Male</th>\n",
       "    </tr>\n",
       "  </thead>\n",
       "  <tbody>\n",
       "    <tr>\n",
       "      <th>0</th>\n",
       "      <td>619</td>\n",
       "      <td>42</td>\n",
       "      <td>2.0</td>\n",
       "      <td>0.00</td>\n",
       "      <td>1</td>\n",
       "      <td>1</td>\n",
       "      <td>1</td>\n",
       "      <td>101348.88</td>\n",
       "      <td>1</td>\n",
       "      <td>0</td>\n",
       "      <td>0</td>\n",
       "      <td>0</td>\n",
       "    </tr>\n",
       "    <tr>\n",
       "      <th>1</th>\n",
       "      <td>608</td>\n",
       "      <td>41</td>\n",
       "      <td>1.0</td>\n",
       "      <td>83807.86</td>\n",
       "      <td>1</td>\n",
       "      <td>0</td>\n",
       "      <td>1</td>\n",
       "      <td>112542.58</td>\n",
       "      <td>0</td>\n",
       "      <td>0</td>\n",
       "      <td>1</td>\n",
       "      <td>0</td>\n",
       "    </tr>\n",
       "    <tr>\n",
       "      <th>2</th>\n",
       "      <td>502</td>\n",
       "      <td>42</td>\n",
       "      <td>8.0</td>\n",
       "      <td>159660.80</td>\n",
       "      <td>3</td>\n",
       "      <td>1</td>\n",
       "      <td>0</td>\n",
       "      <td>113931.57</td>\n",
       "      <td>1</td>\n",
       "      <td>0</td>\n",
       "      <td>0</td>\n",
       "      <td>0</td>\n",
       "    </tr>\n",
       "    <tr>\n",
       "      <th>3</th>\n",
       "      <td>699</td>\n",
       "      <td>39</td>\n",
       "      <td>1.0</td>\n",
       "      <td>0.00</td>\n",
       "      <td>2</td>\n",
       "      <td>0</td>\n",
       "      <td>0</td>\n",
       "      <td>93826.63</td>\n",
       "      <td>0</td>\n",
       "      <td>0</td>\n",
       "      <td>0</td>\n",
       "      <td>0</td>\n",
       "    </tr>\n",
       "    <tr>\n",
       "      <th>4</th>\n",
       "      <td>850</td>\n",
       "      <td>43</td>\n",
       "      <td>2.0</td>\n",
       "      <td>125510.82</td>\n",
       "      <td>1</td>\n",
       "      <td>1</td>\n",
       "      <td>1</td>\n",
       "      <td>79084.10</td>\n",
       "      <td>0</td>\n",
       "      <td>0</td>\n",
       "      <td>1</td>\n",
       "      <td>0</td>\n",
       "    </tr>\n",
       "  </tbody>\n",
       "</table>\n",
       "</div>"
      ],
      "text/plain": [
       "   CreditScore  Age  Tenure    Balance  NumOfProducts  HasCrCard  \\\n",
       "0          619   42     2.0       0.00              1          1   \n",
       "1          608   41     1.0   83807.86              1          0   \n",
       "2          502   42     8.0  159660.80              3          1   \n",
       "3          699   39     1.0       0.00              2          0   \n",
       "4          850   43     2.0  125510.82              1          1   \n",
       "\n",
       "   IsActiveMember  EstimatedSalary  Exited  Geography_Germany  \\\n",
       "0               1        101348.88       1                  0   \n",
       "1               1        112542.58       0                  0   \n",
       "2               0        113931.57       1                  0   \n",
       "3               0         93826.63       0                  0   \n",
       "4               1         79084.10       0                  0   \n",
       "\n",
       "   Geography_Spain  Gender_Male  \n",
       "0                0            0  \n",
       "1                1            0  \n",
       "2                0            0  \n",
       "3                0            0  \n",
       "4                1            0  "
      ]
     },
     "execution_count": 10,
     "metadata": {},
     "output_type": "execute_result"
    }
   ],
   "source": [
    "data_ohe = pd.get_dummies(data, drop_first=True)\n",
    "data_ohe.head()"
   ]
  },
  {
   "cell_type": "markdown",
   "metadata": {},
   "source": [
    "### Разбивка данных на выборки"
   ]
  },
  {
   "cell_type": "markdown",
   "metadata": {},
   "source": [
    "Выделим в данных признаки и целевые признаки.  \n",
    "- Признаки сохраним в переменной `features`.  \n",
    "- Целевые признаки - в переменной `target`.  \n",
    "\n",
    "Выведем размеры этих переменных"
   ]
  },
  {
   "cell_type": "code",
   "execution_count": 11,
   "metadata": {},
   "outputs": [
    {
     "name": "stdout",
     "output_type": "stream",
     "text": [
      "Размер features: (9091, 11) \n",
      "Размер target (9091,)\n"
     ]
    }
   ],
   "source": [
    "features = data_ohe.drop(['Exited'], axis=1)\n",
    "target = data_ohe['Exited']\n",
    "print('Размер features:', features.shape, '\\nРазмер target', target.shape)"
   ]
  },
  {
   "cell_type": "markdown",
   "metadata": {},
   "source": [
    "Разобьем данные в соотношении 3:1:1 на обучающую, валидационную и тестовые выборки.  \n",
    "Чтобы в каждой выборке сохранить те же пропорции классов, как и в исходном наборе данных, используем `stratify=target`. "
   ]
  },
  {
   "cell_type": "code",
   "execution_count": 12,
   "metadata": {},
   "outputs": [
    {
     "name": "stdout",
     "output_type": "stream",
     "text": [
      "Размер обучающей выборки:\n",
      "features_train - (5454, 11) \n",
      "target_train - (5454,)\n"
     ]
    }
   ],
   "source": [
    "features_train, features_remains, target_train, target_remains = train_test_split(\n",
    "    features, target, test_size=0.4, random_state=12345, stratify=target)\n",
    "print('Размер обучающей выборки:\\nfeatures_train -', features_train.shape, '\\ntarget_train -', target_train.shape)"
   ]
  },
  {
   "cell_type": "code",
   "execution_count": 13,
   "metadata": {},
   "outputs": [
    {
     "name": "stdout",
     "output_type": "stream",
     "text": [
      "Размер обучающей выборки:\n",
      "features_valid - (1818, 11) \n",
      "target_valid - (1818,)\n",
      "\n",
      "Размер валидационной выборки:\n",
      "features_test - (1819, 11) \n",
      "target_test - (1819,)\n"
     ]
    }
   ],
   "source": [
    "features_valid, features_test, target_valid, target_test = train_test_split(\n",
    "    features_remains, target_remains, test_size=0.5, random_state=12345, stratify=target_remains)\n",
    "print('Размер обучающей выборки:\\nfeatures_valid -', features_valid.shape, '\\ntarget_valid -', target_valid.shape)\n",
    "print('\\nРазмер валидационной выборки:\\nfeatures_test -', features_test.shape, '\\ntarget_test -', target_test.shape)"
   ]
  },
  {
   "cell_type": "markdown",
   "metadata": {},
   "source": [
    "### Масштабирование признаков"
   ]
  },
  {
   "cell_type": "markdown",
   "metadata": {},
   "source": [
    "Выведем характеристики распределения `features_train`, чтобы определить, какие признаки требуется масштабировать "
   ]
  },
  {
   "cell_type": "code",
   "execution_count": 14,
   "metadata": {},
   "outputs": [
    {
     "data": {
      "text/html": [
       "<div>\n",
       "<style scoped>\n",
       "    .dataframe tbody tr th:only-of-type {\n",
       "        vertical-align: middle;\n",
       "    }\n",
       "\n",
       "    .dataframe tbody tr th {\n",
       "        vertical-align: top;\n",
       "    }\n",
       "\n",
       "    .dataframe thead th {\n",
       "        text-align: right;\n",
       "    }\n",
       "</style>\n",
       "<table border=\"1\" class=\"dataframe\">\n",
       "  <thead>\n",
       "    <tr style=\"text-align: right;\">\n",
       "      <th></th>\n",
       "      <th>CreditScore</th>\n",
       "      <th>Age</th>\n",
       "      <th>Tenure</th>\n",
       "      <th>Balance</th>\n",
       "      <th>NumOfProducts</th>\n",
       "      <th>HasCrCard</th>\n",
       "      <th>IsActiveMember</th>\n",
       "      <th>EstimatedSalary</th>\n",
       "      <th>Geography_Germany</th>\n",
       "      <th>Geography_Spain</th>\n",
       "      <th>Gender_Male</th>\n",
       "    </tr>\n",
       "  </thead>\n",
       "  <tbody>\n",
       "    <tr>\n",
       "      <th>count</th>\n",
       "      <td>5454.000000</td>\n",
       "      <td>5454.000000</td>\n",
       "      <td>5454.000000</td>\n",
       "      <td>5454.000000</td>\n",
       "      <td>5454.000000</td>\n",
       "      <td>5454.000000</td>\n",
       "      <td>5454.000000</td>\n",
       "      <td>5454.000000</td>\n",
       "      <td>5454.000000</td>\n",
       "      <td>5454.000000</td>\n",
       "      <td>5454.000000</td>\n",
       "    </tr>\n",
       "    <tr>\n",
       "      <th>mean</th>\n",
       "      <td>650.126329</td>\n",
       "      <td>38.887239</td>\n",
       "      <td>5.027136</td>\n",
       "      <td>76398.851439</td>\n",
       "      <td>1.535754</td>\n",
       "      <td>0.707371</td>\n",
       "      <td>0.517785</td>\n",
       "      <td>99649.191553</td>\n",
       "      <td>0.251742</td>\n",
       "      <td>0.256142</td>\n",
       "      <td>0.542721</td>\n",
       "    </tr>\n",
       "    <tr>\n",
       "      <th>std</th>\n",
       "      <td>96.015078</td>\n",
       "      <td>10.422855</td>\n",
       "      <td>2.874730</td>\n",
       "      <td>62475.827616</td>\n",
       "      <td>0.588185</td>\n",
       "      <td>0.455011</td>\n",
       "      <td>0.499729</td>\n",
       "      <td>57544.491296</td>\n",
       "      <td>0.434053</td>\n",
       "      <td>0.436541</td>\n",
       "      <td>0.498217</td>\n",
       "    </tr>\n",
       "    <tr>\n",
       "      <th>min</th>\n",
       "      <td>350.000000</td>\n",
       "      <td>18.000000</td>\n",
       "      <td>0.000000</td>\n",
       "      <td>0.000000</td>\n",
       "      <td>1.000000</td>\n",
       "      <td>0.000000</td>\n",
       "      <td>0.000000</td>\n",
       "      <td>11.580000</td>\n",
       "      <td>0.000000</td>\n",
       "      <td>0.000000</td>\n",
       "      <td>0.000000</td>\n",
       "    </tr>\n",
       "    <tr>\n",
       "      <th>25%</th>\n",
       "      <td>583.000000</td>\n",
       "      <td>32.000000</td>\n",
       "      <td>3.000000</td>\n",
       "      <td>0.000000</td>\n",
       "      <td>1.000000</td>\n",
       "      <td>0.000000</td>\n",
       "      <td>0.000000</td>\n",
       "      <td>50227.280000</td>\n",
       "      <td>0.000000</td>\n",
       "      <td>0.000000</td>\n",
       "      <td>0.000000</td>\n",
       "    </tr>\n",
       "    <tr>\n",
       "      <th>50%</th>\n",
       "      <td>652.000000</td>\n",
       "      <td>37.000000</td>\n",
       "      <td>5.000000</td>\n",
       "      <td>97405.605000</td>\n",
       "      <td>1.000000</td>\n",
       "      <td>1.000000</td>\n",
       "      <td>1.000000</td>\n",
       "      <td>99211.175000</td>\n",
       "      <td>0.000000</td>\n",
       "      <td>0.000000</td>\n",
       "      <td>1.000000</td>\n",
       "    </tr>\n",
       "    <tr>\n",
       "      <th>75%</th>\n",
       "      <td>716.000000</td>\n",
       "      <td>44.000000</td>\n",
       "      <td>8.000000</td>\n",
       "      <td>127769.885000</td>\n",
       "      <td>2.000000</td>\n",
       "      <td>1.000000</td>\n",
       "      <td>1.000000</td>\n",
       "      <td>148673.095000</td>\n",
       "      <td>1.000000</td>\n",
       "      <td>1.000000</td>\n",
       "      <td>1.000000</td>\n",
       "    </tr>\n",
       "    <tr>\n",
       "      <th>max</th>\n",
       "      <td>850.000000</td>\n",
       "      <td>88.000000</td>\n",
       "      <td>10.000000</td>\n",
       "      <td>250898.090000</td>\n",
       "      <td>4.000000</td>\n",
       "      <td>1.000000</td>\n",
       "      <td>1.000000</td>\n",
       "      <td>199992.480000</td>\n",
       "      <td>1.000000</td>\n",
       "      <td>1.000000</td>\n",
       "      <td>1.000000</td>\n",
       "    </tr>\n",
       "  </tbody>\n",
       "</table>\n",
       "</div>"
      ],
      "text/plain": [
       "       CreditScore          Age       Tenure        Balance  NumOfProducts  \\\n",
       "count  5454.000000  5454.000000  5454.000000    5454.000000    5454.000000   \n",
       "mean    650.126329    38.887239     5.027136   76398.851439       1.535754   \n",
       "std      96.015078    10.422855     2.874730   62475.827616       0.588185   \n",
       "min     350.000000    18.000000     0.000000       0.000000       1.000000   \n",
       "25%     583.000000    32.000000     3.000000       0.000000       1.000000   \n",
       "50%     652.000000    37.000000     5.000000   97405.605000       1.000000   \n",
       "75%     716.000000    44.000000     8.000000  127769.885000       2.000000   \n",
       "max     850.000000    88.000000    10.000000  250898.090000       4.000000   \n",
       "\n",
       "         HasCrCard  IsActiveMember  EstimatedSalary  Geography_Germany  \\\n",
       "count  5454.000000     5454.000000      5454.000000        5454.000000   \n",
       "mean      0.707371        0.517785     99649.191553           0.251742   \n",
       "std       0.455011        0.499729     57544.491296           0.434053   \n",
       "min       0.000000        0.000000        11.580000           0.000000   \n",
       "25%       0.000000        0.000000     50227.280000           0.000000   \n",
       "50%       1.000000        1.000000     99211.175000           0.000000   \n",
       "75%       1.000000        1.000000    148673.095000           1.000000   \n",
       "max       1.000000        1.000000    199992.480000           1.000000   \n",
       "\n",
       "       Geography_Spain  Gender_Male  \n",
       "count      5454.000000  5454.000000  \n",
       "mean          0.256142     0.542721  \n",
       "std           0.436541     0.498217  \n",
       "min           0.000000     0.000000  \n",
       "25%           0.000000     0.000000  \n",
       "50%           0.000000     1.000000  \n",
       "75%           1.000000     1.000000  \n",
       "max           1.000000     1.000000  "
      ]
     },
     "execution_count": 14,
     "metadata": {},
     "output_type": "execute_result"
    }
   ],
   "source": [
    "features_train.describe()"
   ]
  },
  {
   "cell_type": "code",
   "execution_count": 15,
   "metadata": {},
   "outputs": [
    {
     "data": {
      "text/html": [
       "<div>\n",
       "<style scoped>\n",
       "    .dataframe tbody tr th:only-of-type {\n",
       "        vertical-align: middle;\n",
       "    }\n",
       "\n",
       "    .dataframe tbody tr th {\n",
       "        vertical-align: top;\n",
       "    }\n",
       "\n",
       "    .dataframe thead th {\n",
       "        text-align: right;\n",
       "    }\n",
       "</style>\n",
       "<table border=\"1\" class=\"dataframe\">\n",
       "  <thead>\n",
       "    <tr style=\"text-align: right;\">\n",
       "      <th></th>\n",
       "      <th>CreditScore</th>\n",
       "      <th>Age</th>\n",
       "      <th>Tenure</th>\n",
       "      <th>Balance</th>\n",
       "      <th>NumOfProducts</th>\n",
       "      <th>HasCrCard</th>\n",
       "      <th>IsActiveMember</th>\n",
       "      <th>EstimatedSalary</th>\n",
       "      <th>Geography_Germany</th>\n",
       "      <th>Geography_Spain</th>\n",
       "      <th>Gender_Male</th>\n",
       "    </tr>\n",
       "  </thead>\n",
       "  <tbody>\n",
       "    <tr>\n",
       "      <th>9723</th>\n",
       "      <td>-1.292898</td>\n",
       "      <td>-0.660843</td>\n",
       "      <td>0.686341</td>\n",
       "      <td>0.786636</td>\n",
       "      <td>1</td>\n",
       "      <td>0</td>\n",
       "      <td>0</td>\n",
       "      <td>-0.223548</td>\n",
       "      <td>0</td>\n",
       "      <td>0</td>\n",
       "      <td>1</td>\n",
       "    </tr>\n",
       "    <tr>\n",
       "      <th>1224</th>\n",
       "      <td>-1.563714</td>\n",
       "      <td>0.778434</td>\n",
       "      <td>1.034232</td>\n",
       "      <td>0.833795</td>\n",
       "      <td>1</td>\n",
       "      <td>1</td>\n",
       "      <td>0</td>\n",
       "      <td>1.383021</td>\n",
       "      <td>0</td>\n",
       "      <td>1</td>\n",
       "      <td>0</td>\n",
       "    </tr>\n",
       "    <tr>\n",
       "      <th>8377</th>\n",
       "      <td>1.581914</td>\n",
       "      <td>0.106771</td>\n",
       "      <td>-0.357331</td>\n",
       "      <td>-1.222967</td>\n",
       "      <td>2</td>\n",
       "      <td>1</td>\n",
       "      <td>1</td>\n",
       "      <td>-0.308331</td>\n",
       "      <td>0</td>\n",
       "      <td>1</td>\n",
       "      <td>1</td>\n",
       "    </tr>\n",
       "    <tr>\n",
       "      <th>8014</th>\n",
       "      <td>0.842379</td>\n",
       "      <td>0.010820</td>\n",
       "      <td>-1.053112</td>\n",
       "      <td>0.807063</td>\n",
       "      <td>1</td>\n",
       "      <td>1</td>\n",
       "      <td>1</td>\n",
       "      <td>-0.430980</td>\n",
       "      <td>0</td>\n",
       "      <td>1</td>\n",
       "      <td>0</td>\n",
       "    </tr>\n",
       "    <tr>\n",
       "      <th>2491</th>\n",
       "      <td>-0.397123</td>\n",
       "      <td>-1.236554</td>\n",
       "      <td>-0.357331</td>\n",
       "      <td>-1.222967</td>\n",
       "      <td>2</td>\n",
       "      <td>1</td>\n",
       "      <td>1</td>\n",
       "      <td>1.392642</td>\n",
       "      <td>0</td>\n",
       "      <td>1</td>\n",
       "      <td>0</td>\n",
       "    </tr>\n",
       "  </tbody>\n",
       "</table>\n",
       "</div>"
      ],
      "text/plain": [
       "      CreditScore       Age    Tenure   Balance  NumOfProducts  HasCrCard  \\\n",
       "9723    -1.292898 -0.660843  0.686341  0.786636              1          0   \n",
       "1224    -1.563714  0.778434  1.034232  0.833795              1          1   \n",
       "8377     1.581914  0.106771 -0.357331 -1.222967              2          1   \n",
       "8014     0.842379  0.010820 -1.053112  0.807063              1          1   \n",
       "2491    -0.397123 -1.236554 -0.357331 -1.222967              2          1   \n",
       "\n",
       "      IsActiveMember  EstimatedSalary  Geography_Germany  Geography_Spain  \\\n",
       "9723               0        -0.223548                  0                0   \n",
       "1224               0         1.383021                  0                1   \n",
       "8377               1        -0.308331                  0                1   \n",
       "8014               1        -0.430980                  0                1   \n",
       "2491               1         1.392642                  0                1   \n",
       "\n",
       "      Gender_Male  \n",
       "9723            1  \n",
       "1224            0  \n",
       "8377            1  \n",
       "8014            0  \n",
       "2491            0  "
      ]
     },
     "execution_count": 15,
     "metadata": {},
     "output_type": "execute_result"
    }
   ],
   "source": [
    "# Список признаков для масштабирования\n",
    "numeric = ['CreditScore', 'Age', 'Tenure', 'Balance', 'EstimatedSalary']\n",
    "\n",
    "pd.options.mode.chained_assignment = None\n",
    "\n",
    "# Создадим объект структуры StandardScaler\n",
    "scaler = StandardScaler()\n",
    "# Выполним настройку на обучающих данных\n",
    "scaler.fit(features_train[numeric])\n",
    "# Преобразуем обучающую и валидационную выборки функцией transform()\n",
    "features_train[numeric] = scaler.transform(features_train[numeric])\n",
    "features_valid[numeric] = scaler.transform(features_valid[numeric])\n",
    "features_test[numeric] = scaler.transform(features_test[numeric])\n",
    "features_train.head()"
   ]
  },
  {
   "cell_type": "markdown",
   "metadata": {},
   "source": [
    "### Вывод\n",
    "Данные для исследования подготовлены: \n",
    "- Выполнена обработка категориальных признаков техникой One-Hot Encoding\n",
    "- Данные разделены на обучающую и валидационную выборки\n",
    "- Проведено масштабирование признаков\n",
    "\n",
    "Признаки, с которыми будем работать:\n",
    "- CreditScore — кредитный рейтинг\n",
    "- Age — возраст\n",
    "- Tenure — сколько лет человек является клиентом банка\n",
    "- Balance — баланс на счёте\n",
    "- NumOfProducts — количество продуктов банка, используемых клиентом\n",
    "- HasCrCard — наличие кредитной карты\n",
    "- IsActiveMember — активность клиента\n",
    "- EstimatedSalary — предполагаемая зарплата\n",
    "- Geography_Germany — страна проживания Germany\n",
    "- Geography_Spain — страна проживания Spain\n",
    "- Gender_Male — мужской пол\n",
    "\n",
    "Целевой признак:\n",
    "- Exited — факт ухода клиента"
   ]
  },
  {
   "cell_type": "markdown",
   "metadata": {},
   "source": [
    "## Исследование задачи"
   ]
  },
  {
   "cell_type": "markdown",
   "metadata": {},
   "source": [
    "### Исследуем баланс классов"
   ]
  },
  {
   "cell_type": "code",
   "execution_count": 16,
   "metadata": {},
   "outputs": [
    {
     "data": {
      "image/png": "[encoded data removed]",
      "text/plain": [
       "<Figure size 1000x600 with 1 Axes>"
      ]
     },
     "metadata": {},
     "output_type": "display_data"
    }
   ],
   "source": [
    "# Выведем гистограмму значений оставшихся и ушедших клиентов\n",
    "data['Exited'].value_counts().plot(kind='bar', grid=True, figsize=(10,6), title='Кол-во оставшихся и ушедших клиентов');"
   ]
  },
  {
   "cell_type": "markdown",
   "metadata": {},
   "source": [
    "Гистограмма подтверждает дисбаланс классов.  \n",
    "Вычислим во сколько раз кол-во оставшихся клиентов больше кол-ва ушедших."
   ]
  },
  {
   "cell_type": "code",
   "execution_count": 17,
   "metadata": {},
   "outputs": [
    {
     "data": {
      "text/plain": [
       "3.9046762589928057"
      ]
     },
     "execution_count": 17,
     "metadata": {},
     "output_type": "execute_result"
    }
   ],
   "source": [
    "ratio = (target_train.shape[0] - target_train.sum())/target_train.sum()\n",
    "ratio"
   ]
  },
  {
   "cell_type": "markdown",
   "metadata": {},
   "source": [
    "Оставшихся больше чем ушедших в `3.9083769633507854`"
   ]
  },
  {
   "cell_type": "markdown",
   "metadata": {},
   "source": [
    "### Построение моделей без учета дисбаланса классов"
   ]
  },
  {
   "cell_type": "markdown",
   "metadata": {},
   "source": [
    "#### Дерево решений\n",
    "Для поиска оптимального решения рассмотрим модели с максимальной глубиной от 1 до 10."
   ]
  },
  {
   "cell_type": "code",
   "execution_count": 18,
   "metadata": {},
   "outputs": [
    {
     "name": "stdout",
     "output_type": "stream",
     "text": [
      "Оптимальный max_depth: 7 \n",
      "Лучшая F1: 0.5815126050420169 \n",
      "AUC-ROC модели: 0.8245379882534177\n"
     ]
    }
   ],
   "source": [
    "best_model_tree = None\n",
    "best_depth_tree = 0\n",
    "best_result_tree = 0\n",
    "for depth in range(1, 11):\n",
    "    model = DecisionTreeClassifier(random_state=12345, max_depth = depth)\n",
    "    model.fit(features_train, target_train)\n",
    "    predictions = model.predict(features_valid)\n",
    "    result = f1_score(predictions, target_valid)\n",
    "    if best_result_tree < result:\n",
    "        best_model_tree = model\n",
    "        best_depth_tree = depth\n",
    "        best_result_tree = result\n",
    "probabilities_valid = best_model_tree.predict_proba(features_valid)\n",
    "probabilities_one_valid = probabilities_valid[:, 1]\n",
    "auc_roc = roc_auc_score(target_valid, probabilities_one_valid) \n",
    "print(\n",
    "    'Оптимальный max_depth:', best_depth_tree,\n",
    "    '\\nЛучшая F1:', best_result_tree,\n",
    "    '\\nAUC-ROC модели:', auc_roc\n",
    ")"
   ]
  },
  {
   "cell_type": "markdown",
   "metadata": {},
   "source": [
    "#### Случайный лес\n",
    "Для поиска оптимального решения рассмотрим модели с количеством деревьев от 1 до 10 и с максимальной глубиной от 1 до 30."
   ]
  },
  {
   "cell_type": "code",
   "execution_count": 19,
   "metadata": {},
   "outputs": [
    {
     "name": "stdout",
     "output_type": "stream",
     "text": [
      "\n",
      "Оптимальный n_estimators: 9 \n",
      "Оптимальный max_depth: 18 \n",
      "Лучшая F1: 0.6019108280254777 \n",
      "AUC-ROC модели: 0.8508960820509764\n"
     ]
    }
   ],
   "source": [
    "best_model_forest = None\n",
    "best_est_forest = 0\n",
    "best_depth_forest = 0\n",
    "best_result_forest = 0\n",
    "for est in range(1, 11):\n",
    "    for depth in range(1, 31):\n",
    "        model = RandomForestClassifier(\n",
    "            random_state=12345, n_estimators=est, max_depth = depth)\n",
    "        model.fit(features_train, target_train)\n",
    "        predictions = model.predict(features_valid)\n",
    "        result = f1_score(predictions, target_valid)\n",
    "        if best_result_forest < result:\n",
    "            best_model_forest = model\n",
    "            best_est_forest = est\n",
    "            best_depth_forest = depth\n",
    "            best_result_forest = result\n",
    "probabilities_valid = best_model_forest.predict_proba(features_valid)\n",
    "probabilities_one_valid = probabilities_valid[:, 1]\n",
    "auc_roc = roc_auc_score(target_valid, probabilities_one_valid) \n",
    "print(\n",
    "    '\\nОптимальный n_estimators:', best_est_forest,\n",
    "    '\\nОптимальный max_depth:', best_depth_forest,\n",
    "    '\\nЛучшая F1:', best_result_forest,\n",
    "    '\\nAUC-ROC модели:', auc_roc\n",
    ")"
   ]
  },
  {
   "cell_type": "markdown",
   "metadata": {},
   "source": [
    "#### Логическая регрессия"
   ]
  },
  {
   "cell_type": "code",
   "execution_count": 20,
   "metadata": {},
   "outputs": [
    {
     "name": "stdout",
     "output_type": "stream",
     "text": [
      "F1 модели: 0.3306772908366534 \n",
      "AUC-ROC модели: 0.7892283877601582\n"
     ]
    }
   ],
   "source": [
    "model_lr = LogisticRegression(random_state=12345, solver='liblinear')\n",
    "model_lr.fit(features_train, target_train)\n",
    "predictions = model_lr.predict(features_valid)\n",
    "result = f1_score(predictions, target_valid)\n",
    "probabilities_valid = model_lr.predict_proba(features_valid)\n",
    "probabilities_one_valid = probabilities_valid[:, 1]\n",
    "auc_roc = roc_auc_score(target_valid, probabilities_one_valid)\n",
    "print('F1 модели:', result,  '\\nAUC-ROC модели:', auc_roc)"
   ]
  },
  {
   "cell_type": "markdown",
   "metadata": {},
   "source": [
    "### Вывод  \n",
    "Лучшие результаты показала модель случайного леса.  \n",
    "`F1` лучшей модели равно `0.6019108280254777`  \n",
    "`AUC-ROC` равно `0.8508960820509764`  \n",
    "Гиперпараметры лучшей модели случайного леса:\n",
    "- `n_estimators` - `9`\n",
    "- `max_depth` - `18`  \n",
    "\n",
    "Наихудшие результаты показала модель логической регрессии.  \n",
    "Но, поскольку в данных присутствует дисбаланс классов, целесообразно, используя техники борьбы с дисбалансом, увеличить качество моделей."
   ]
  },
  {
   "cell_type": "markdown",
   "metadata": {},
   "source": [
    "## Борьба с дисбалансом"
   ]
  },
  {
   "cell_type": "markdown",
   "metadata": {},
   "source": [
    "### Взвешивание классов"
   ]
  },
  {
   "cell_type": "markdown",
   "metadata": {},
   "source": [
    "Придадим объектам редкого класса `1` больший вес, применив аргумент `class_weight='balanced'`"
   ]
  },
  {
   "cell_type": "markdown",
   "metadata": {},
   "source": [
    "#### Дерево решений"
   ]
  },
  {
   "cell_type": "code",
   "execution_count": 21,
   "metadata": {},
   "outputs": [
    {
     "name": "stdout",
     "output_type": "stream",
     "text": [
      "Оптимальный max_depth: 6 \n",
      "Лучшая F1: 0.583084577114428 \n",
      "AUC-ROC модели: 0.8353643657199484\n"
     ]
    }
   ],
   "source": [
    "best_balanced_model_tree = None\n",
    "best_balanced_depth_tree = 0\n",
    "best_balanced_result_tree = 0\n",
    "for depth in range(1, 11):\n",
    "    model = DecisionTreeClassifier(random_state=12345, max_depth = depth, class_weight='balanced')\n",
    "    model.fit(features_train, target_train)\n",
    "    predictions = model.predict(features_valid)\n",
    "    result = f1_score(predictions, target_valid)\n",
    "    if best_balanced_result_tree < result:\n",
    "        best_balanced_model_tree = model\n",
    "        best_balanced_depth_tree = depth\n",
    "        best_balanced_result_tree = result\n",
    "probabilities_valid = best_balanced_model_tree.predict_proba(features_valid)\n",
    "probabilities_one_valid = probabilities_valid[:, 1]\n",
    "auc_roc = roc_auc_score(target_valid, probabilities_one_valid) \n",
    "print(\n",
    "    'Оптимальный max_depth:', best_balanced_depth_tree,\n",
    "    '\\nЛучшая F1:', best_balanced_result_tree,\n",
    "    '\\nAUC-ROC модели:', auc_roc\n",
    ")"
   ]
  },
  {
   "cell_type": "markdown",
   "metadata": {},
   "source": [
    "#### Случайный лес"
   ]
  },
  {
   "cell_type": "code",
   "execution_count": 22,
   "metadata": {},
   "outputs": [
    {
     "name": "stdout",
     "output_type": "stream",
     "text": [
      "\n",
      "Оптимальный n_estimators: 9 \n",
      "Оптимальный max_depth: 8 \n",
      "Лучшая F1: 0.6277372262773723 \n",
      "AUC-ROC модели: 0.8608953928287358\n"
     ]
    }
   ],
   "source": [
    "best_balanced_model_forest = None\n",
    "best_balanced_est_forest = 0\n",
    "best_balanced_depth_forest = 0\n",
    "best_balanced_result_forest = 0\n",
    "for est in range(1, 11):\n",
    "    for depth in range(1, 31):\n",
    "        model = RandomForestClassifier(\n",
    "            random_state=12345, n_estimators=est, max_depth = depth, class_weight='balanced')\n",
    "        model.fit(features_train, target_train)\n",
    "        predictions = model.predict(features_valid)\n",
    "        result = f1_score(predictions, target_valid)\n",
    "        if best_balanced_result_forest < result:\n",
    "            best_balanced_model_forest = model\n",
    "            best_balanced_est_forest = est\n",
    "            best_balanced_depth_forest = depth\n",
    "            best_balanced_result_forest = result\n",
    "probabilities_valid = best_balanced_model_forest.predict_proba(features_valid)\n",
    "probabilities_one_valid = probabilities_valid[:, 1]\n",
    "auc_roc = roc_auc_score(target_valid, probabilities_one_valid) \n",
    "print(\n",
    "    '\\nОптимальный n_estimators:', best_balanced_est_forest,\n",
    "    '\\nОптимальный max_depth:', best_balanced_depth_forest,\n",
    "    '\\nЛучшая F1:', best_balanced_result_forest,\n",
    "    '\\nAUC-ROC модели:', auc_roc\n",
    ")"
   ]
  },
  {
   "cell_type": "markdown",
   "metadata": {},
   "source": [
    "#### Логическая регрессия"
   ]
  },
  {
   "cell_type": "code",
   "execution_count": 23,
   "metadata": {},
   "outputs": [
    {
     "name": "stdout",
     "output_type": "stream",
     "text": [
      "F1 модели: 0.5065420560747663 \n",
      "AUC-ROC модели: 0.7907968340483237\n"
     ]
    }
   ],
   "source": [
    "balanced_model_lr = LogisticRegression(random_state=12345, solver='liblinear', class_weight='balanced')\n",
    "balanced_model_lr.fit(features_train, target_train)\n",
    "predictions = balanced_model_lr.predict(features_valid)\n",
    "result = f1_score(predictions, target_valid)\n",
    "probabilities_valid = balanced_model_lr.predict_proba(features_valid)\n",
    "probabilities_one_valid = probabilities_valid[:, 1]\n",
    "auc_roc = roc_auc_score(target_valid, probabilities_one_valid)\n",
    "print('F1 модели:', result,  '\\nAUC-ROC модели:', auc_roc)"
   ]
  },
  {
   "cell_type": "markdown",
   "metadata": {},
   "source": [
    "### Увеличение выборки"
   ]
  },
  {
   "cell_type": "markdown",
   "metadata": {},
   "source": [
    "Увеличим в выборке объекты редкого класса `1`, применив технику `upsampling`.\n",
    "\n",
    "Для этого создадим функцию upsample() с тремя параметрами:\n",
    "- features — признаки,\n",
    "- target — целевой признак,\n",
    "- repeat — количество повторений."
   ]
  },
  {
   "cell_type": "code",
   "execution_count": 24,
   "metadata": {},
   "outputs": [],
   "source": [
    "# Функция upsample(), увеличивающая объекты редкого класса в 'repeat' раз\n",
    "def upsample(features, target, repeat):\n",
    "    # Деление обучающей выборки на отрицательные и положительные объекты\n",
    "    features_zeros = features[target == 0]\n",
    "    features_ones = features[target == 1]\n",
    "    target_zeros = target[target == 0]\n",
    "    target_ones = target[target == 1]\n",
    "    # Создание новых обучающих выборок\n",
    "    features_upsampled = pd.concat([features_zeros] + [features_ones] * repeat)\n",
    "    target_upsampled = pd.concat([target_zeros] + [target_ones] * repeat)\n",
    "    # Перемешивание данных\n",
    "    features_upsampled, target_upsampled = shuffle(\n",
    "        features_upsampled, target_upsampled, random_state=12345)\n",
    "    return features_upsampled, target_upsampled\n",
    "features_upsampled, target_upsampled = upsample(features_train, target_train, round(ratio))"
   ]
  },
  {
   "cell_type": "code",
   "execution_count": 25,
   "metadata": {},
   "outputs": [
    {
     "data": {
      "text/plain": [
       "0.9761690647482014"
      ]
     },
     "execution_count": 25,
     "metadata": {},
     "output_type": "execute_result"
    }
   ],
   "source": [
    "ratio_new = (target_upsampled.shape[0] - target_upsampled.sum())/target_upsampled.sum()\n",
    "ratio_new"
   ]
  },
  {
   "cell_type": "markdown",
   "metadata": {},
   "source": [
    "#### Дерево решений"
   ]
  },
  {
   "cell_type": "code",
   "execution_count": 26,
   "metadata": {},
   "outputs": [
    {
     "name": "stdout",
     "output_type": "stream",
     "text": [
      "Оптимальный max_depth: 6 \n",
      "Лучшая F1: 0.5825049701789264 \n",
      "AUC-ROC модели: 0.8347040163029001\n"
     ]
    }
   ],
   "source": [
    "best_upsampling_model_tree = None\n",
    "best_upsampling_depth_tree = 0\n",
    "best_upsampling_result_tree = 0\n",
    "for depth in range(1, 11):\n",
    "    model = DecisionTreeClassifier(random_state=12345, max_depth = depth)\n",
    "    model.fit(features_upsampled, target_upsampled)\n",
    "    predictions = model.predict(features_valid)\n",
    "    result = f1_score(predictions, target_valid)\n",
    "    if best_upsampling_result_tree < result:\n",
    "        best_upsampling_model_tree = model\n",
    "        best_upsampling_depth_tree = depth\n",
    "        best_upsampling_result_tree = result\n",
    "probabilities_valid = best_upsampling_model_tree.predict_proba(features_valid)\n",
    "probabilities_one_valid = probabilities_valid[:, 1]\n",
    "auc_roc = roc_auc_score(target_valid, probabilities_one_valid) \n",
    "print(\n",
    "    'Оптимальный max_depth:', best_upsampling_depth_tree,\n",
    "    '\\nЛучшая F1:', best_upsampling_result_tree,\n",
    "    '\\nAUC-ROC модели:', auc_roc\n",
    ")"
   ]
  },
  {
   "cell_type": "markdown",
   "metadata": {},
   "source": [
    "#### Случайный лес"
   ]
  },
  {
   "cell_type": "code",
   "execution_count": 27,
   "metadata": {},
   "outputs": [
    {
     "name": "stdout",
     "output_type": "stream",
     "text": [
      "\n",
      "Оптимальный n_estimators: 10 \n",
      "Оптимальный max_depth: 8 \n",
      "Лучшая F1: 0.6285714285714286 \n",
      "AUC-ROC модели: 0.8716742698435465\n"
     ]
    }
   ],
   "source": [
    "best_upsampling_model_forest = None\n",
    "best_upsampling_est_forest = 0\n",
    "best_upsampling_depth_forest = 0\n",
    "best_upsampling_result_forest = 0\n",
    "for est in range(1, 11):\n",
    "    for depth in range(1, 31):\n",
    "        model = RandomForestClassifier(\n",
    "            random_state=12345, n_estimators=est, max_depth = depth)\n",
    "        model.fit(features_upsampled, target_upsampled)\n",
    "        predictions = model.predict(features_valid)\n",
    "        result = f1_score(predictions, target_valid)\n",
    "        if best_upsampling_result_forest < result:\n",
    "            best_upsampling_model_forest = model\n",
    "            best_upsampling_est_forest = est\n",
    "            best_upsampling_depth_forest = depth\n",
    "            best_upsampling_result_forest = result\n",
    "probabilities_valid = best_upsampling_model_forest.predict_proba(features_valid)\n",
    "probabilities_one_valid = probabilities_valid[:, 1]\n",
    "auc_roc = roc_auc_score(target_valid, probabilities_one_valid) \n",
    "print(\n",
    "    '\\nОптимальный n_estimators:', best_upsampling_est_forest,\n",
    "    '\\nОптимальный max_depth:', best_upsampling_depth_forest,\n",
    "    '\\nЛучшая F1:', best_upsampling_result_forest,\n",
    "    '\\nAUC-ROC модели:', auc_roc\n",
    ")"
   ]
  },
  {
   "cell_type": "markdown",
   "metadata": {},
   "source": [
    "#### Логическая регрессия"
   ]
  },
  {
   "cell_type": "code",
   "execution_count": 28,
   "metadata": {},
   "outputs": [
    {
     "name": "stdout",
     "output_type": "stream",
     "text": [
      "F1 модели: 0.5050878815911193 \n",
      "AUC-ROC модели: 0.7907782064201982\n"
     ]
    }
   ],
   "source": [
    "upsampling_model_lr = LogisticRegression(random_state=12345, solver='liblinear')\n",
    "upsampling_model_lr.fit(features_upsampled, target_upsampled)\n",
    "predictions = upsampling_model_lr.predict(features_valid)\n",
    "result = f1_score(predictions, target_valid)\n",
    "probabilities_valid = upsampling_model_lr.predict_proba(features_valid)\n",
    "probabilities_one_valid = probabilities_valid[:, 1]\n",
    "auc_roc = roc_auc_score(target_valid, probabilities_one_valid)\n",
    "print('F1 модели:', result,  '\\nAUC-ROC модели:', auc_roc)"
   ]
  },
  {
   "cell_type": "markdown",
   "metadata": {},
   "source": [
    "### Уменьшение выборки"
   ]
  },
  {
   "cell_type": "markdown",
   "metadata": {},
   "source": [
    "Уменьшим в выборке объекты частого класса `0`, применив технику `downsampling`\n",
    "\n",
    "Для этого создадим функцию upsample() с тремя параметрами:\n",
    "- features — признаки,\n",
    "- target — целевой признак,\n",
    "- fraction — доля объектов частого класса, которую необходимо сохранить."
   ]
  },
  {
   "cell_type": "code",
   "execution_count": 29,
   "metadata": {},
   "outputs": [],
   "source": [
    "def downsample(features, target, fraction):\n",
    "    features_zeros = features[target == 0]\n",
    "    features_ones = features[target == 1]\n",
    "    target_zeros = target[target == 0]\n",
    "    target_ones = target[target == 1]\n",
    "    features_downsampled = pd.concat(\n",
    "        [features_zeros.sample(frac=fraction, random_state=12345)] + [features_ones])\n",
    "    target_downsampled = pd.concat(\n",
    "        [target_zeros.sample(frac=fraction, random_state=12345)] + [target_ones])\n",
    "    features_downsampled, target_downsampled = shuffle(\n",
    "        features_downsampled, target_downsampled, random_state=12345)\n",
    "    return features_downsampled, target_downsampled\n",
    "features_downsampled, target_downsampled = downsample(features_train, target_train, 1/round(ratio))"
   ]
  },
  {
   "cell_type": "markdown",
   "metadata": {},
   "source": [
    "#### Дерево решений"
   ]
  },
  {
   "cell_type": "code",
   "execution_count": 30,
   "metadata": {},
   "outputs": [
    {
     "name": "stdout",
     "output_type": "stream",
     "text": [
      "Оптимальный max_depth: 6 \n",
      "Лучшая F1: 0.5688442211055276 \n",
      "AUC-ROC модели: 0.8456375026311528\n"
     ]
    }
   ],
   "source": [
    "best_downsampling_model_tree = None\n",
    "best_downsampling_depth_tree = 0\n",
    "best_downsampling_result_tree = 0\n",
    "for depth in range(1, 11):\n",
    "    model = DecisionTreeClassifier(random_state=12345, max_depth = depth)\n",
    "    model.fit(features_downsampled, target_downsampled)\n",
    "    predictions = model.predict(features_valid)\n",
    "    result = f1_score(predictions, target_valid)\n",
    "    if best_downsampling_result_tree < result:\n",
    "        best_downsampling_model_tree = model\n",
    "        best_downsampling_depth_tree = depth\n",
    "        best_downsampling_result_tree = result\n",
    "probabilities_valid = best_downsampling_model_tree.predict_proba(features_valid)\n",
    "probabilities_one_valid = probabilities_valid[:, 1]\n",
    "auc_roc = roc_auc_score(target_valid, probabilities_one_valid) \n",
    "print(\n",
    "    'Оптимальный max_depth:', best_downsampling_depth_tree,\n",
    "    '\\nЛучшая F1:', best_downsampling_result_tree,\n",
    "    '\\nAUC-ROC модели:', auc_roc\n",
    ")"
   ]
  },
  {
   "cell_type": "markdown",
   "metadata": {},
   "source": [
    "#### Случайный лес"
   ]
  },
  {
   "cell_type": "code",
   "execution_count": 31,
   "metadata": {},
   "outputs": [
    {
     "name": "stdout",
     "output_type": "stream",
     "text": [
      "\n",
      "Оптимальный n_estimators: 10 \n",
      "Оптимальный max_depth: 9 \n",
      "Лучшая F1: 0.6038894575230297 \n",
      "AUC-ROC модели: 0.862370700976274\n"
     ]
    }
   ],
   "source": [
    "best_downsampling_model_forest = None\n",
    "best_downsampling_est_forest = 0\n",
    "best_downsampling_depth_forest = 0\n",
    "best_downsampling_result_forest = 0\n",
    "for est in range(1, 11):\n",
    "    for depth in range(1, 31):\n",
    "        model = RandomForestClassifier(\n",
    "            random_state=12345, n_estimators=est, max_depth = depth)\n",
    "        model.fit(features_downsampled, target_downsampled)\n",
    "        predictions = model.predict(features_valid)\n",
    "        result = f1_score(predictions, target_valid)\n",
    "        if best_downsampling_result_forest < result:\n",
    "            best_downsampling_model_forest = model\n",
    "            best_downsampling_est_forest = est\n",
    "            best_downsampling_depth_forest = depth\n",
    "            best_downsampling_result_forest = result\n",
    "probabilities_valid = best_downsampling_model_forest.predict_proba(features_valid)\n",
    "probabilities_one_valid = probabilities_valid[:, 1]\n",
    "auc_roc = roc_auc_score(target_valid, probabilities_one_valid) \n",
    "print(\n",
    "    '\\nОптимальный n_estimators:', best_downsampling_est_forest,\n",
    "    '\\nОптимальный max_depth:', best_downsampling_depth_forest,\n",
    "    '\\nЛучшая F1:', best_downsampling_result_forest,\n",
    "    '\\nAUC-ROC модели:', auc_roc\n",
    ")"
   ]
  },
  {
   "cell_type": "markdown",
   "metadata": {},
   "source": [
    "#### Логическая регрессия"
   ]
  },
  {
   "cell_type": "code",
   "execution_count": 32,
   "metadata": {},
   "outputs": [
    {
     "name": "stdout",
     "output_type": "stream",
     "text": [
      "F1 модели: 0.5091911764705882 \n",
      "AUC-ROC модели: 0.7911600727967707\n"
     ]
    }
   ],
   "source": [
    "downsampling_model_lr = LogisticRegression(random_state=12345, solver='liblinear')\n",
    "downsampling_model_lr.fit(features_downsampled, target_downsampled)\n",
    "predictions = downsampling_model_lr.predict(features_valid)\n",
    "result = f1_score(predictions, target_valid)\n",
    "probabilities_valid = downsampling_model_lr.predict_proba(features_valid)\n",
    "probabilities_one_valid = probabilities_valid[:, 1]\n",
    "auc_roc = roc_auc_score(target_valid, probabilities_one_valid)\n",
    "print('F1 модели:', result,  '\\nAUC-ROC модели:', auc_roc)"
   ]
  },
  {
   "cell_type": "markdown",
   "metadata": {},
   "source": [
    "### Вывод\n",
    "Лучшие результаты показывала модель случайного леса:\n",
    "\n",
    "**Без балансировки классов:**  \n",
    "Модель - `best_model_forest`  \n",
    "`F1` модели: `0.6019108280254777`   \n",
    "`AUC-ROC` модели: `0.8508960820509764`  \n",
    "Гиперпараметры модели:\n",
    "- Кол-во деревьей: 9\n",
    "- Глубина: 18  \n",
    "\n",
    "**Взвешивание классов:**  \n",
    "Модель - `best_balanced_model_forest`  \n",
    "`F1` модели: `0.6408977556109726`   \n",
    "`AUC-ROC` модели: `0.8668832438896723`  \n",
    "Гиперпараметры модели:\n",
    "- Кол-во деревьей: 10 \n",
    "- Глубина: 9   \n",
    "\n",
    "**Увеличение выборки:**\n",
    "Модель - `best_upsampling_model_forest`  \n",
    "`F1` модели: `0.6285714285714286`   \n",
    "`AUC-ROC` модели: `0.8716742698435465`  \n",
    "Гиперпараметры модели:\n",
    "- Кол-во деревьей: 10\n",
    "- Глубина: 8   \n",
    "\n",
    "**Уменьшение выборки:**\n",
    "Модель - `best_downsampling_model_forest`  \n",
    "`F1` модели: `0.6038894575230297`   \n",
    "`AUC-ROC` модели: `0.862370700976274`  \n",
    "Гиперпараметры модели:\n",
    "- Кол-во деревьей: 10 \n",
    "- Глубина: 9\n",
    "\n",
    "У всех моделей разные гиперпараметры, а показатели `F1` и `AUC-ROC` отличаются не сильно.\n",
    "Целесообразно проверить эти модели на тестовой выборке."
   ]
  },
  {
   "cell_type": "markdown",
   "metadata": {},
   "source": [
    "## Тестирование модели"
   ]
  },
  {
   "cell_type": "markdown",
   "metadata": {},
   "source": [
    "### Проверка лучшей модели на тестовых данных"
   ]
  },
  {
   "cell_type": "code",
   "execution_count": 35,
   "metadata": {},
   "outputs": [
    {
     "name": "stdout",
     "output_type": "stream",
     "text": [
      "\n",
      "Для best_balanced_model_forest:\n",
      "F1 модели 0.5895522388059702 \n",
      "AUC-ROC модели: 0.8372529820851513\n"
     ]
    }
   ],
   "source": [
    "##predictions = best_model_forest.predict(features_test)\n",
    "##f1 = f1_score(predictions, target_test)\n",
    "##probabilities_test = best_model_forest.predict_proba(features_test)\n",
    "##probabilities_one_test = probabilities_test[:, 1]\n",
    "##auc_roc = roc_auc_score(target_test, probabilities_one_test)\n",
    "##fpr_forest, tpr_forest, thresholds = roc_curve(target_test, probabilities_one_test)\n",
    "##print(\n",
    "##    '\\nДля best_model_forest:\\nF1 модели', f1,\n",
    "##    '\\nAUC-ROC модели:', auc_roc\n",
    "##)\n",
    "\n",
    "predictions = best_balanced_model_forest.predict(features_test)\n",
    "f1 = f1_score(predictions, target_test)\n",
    "probabilities_test = best_balanced_model_forest.predict_proba(features_test)\n",
    "probabilities_one_test = probabilities_test[:, 1]\n",
    "auc_roc = roc_auc_score(target_test, probabilities_one_test)\n",
    "fpr_balanced_forest, tpr_balanced_forest, thresholds = roc_curve(target_test, probabilities_one_test)\n",
    "print(\n",
    "    '\\nДля best_balanced_model_forest:\\nF1 модели', f1,\n",
    "    '\\nAUC-ROC модели:', auc_roc\n",
    ")\n",
    "\n",
    "##predictions = best_upsampling_model_forest.predict(features_test)\n",
    "##f1 = f1_score(predictions, target_test)\n",
    "##probabilities_test = best_upsampling_model_forest.predict_proba(features_test)\n",
    "##probabilities_one_test = probabilities_test[:, 1]\n",
    "##auc_roc = roc_auc_score(target_test, probabilities_one_test)\n",
    "##fpr_upsampling_forest, tpr_upsampling_forest, thresholds = roc_curve(target_test, probabilities_one_test)\n",
    "##print(\n",
    "##    '\\nДля best_upsampling_model_forest:\\nF1 модели', f1,\n",
    "##    '\\nAUC-ROC модели:', auc_roc\n",
    "##)\n",
    "\n",
    "##predictions = best_downsampling_model_forest.predict(features_test)\n",
    "##f1 = f1_score(predictions, target_test)\n",
    "##probabilities_test = best_downsampling_model_forest.predict_proba(features_test)\n",
    "##probabilities_one_test = probabilities_test[:, 1]\n",
    "##auc_roc = roc_auc_score(target_test, probabilities_one_test)\n",
    "##fpr_downsampling_forest, tpr_downsampling_forest, thresholds = roc_curve(target_test, probabilities_one_test)\n",
    "##print(\n",
    "##    '\\nДля best_downsampling_model_forest:\\nF1 модели', f1,\n",
    "##    '\\nAUC-ROC модели:', auc_roc\n",
    "##)"
   ]
  },
  {
   "cell_type": "markdown",
   "metadata": {},
   "source": [
    "<div class=\"alert alert-block alert-warning\">\n",
    "<b>Комментарий ко 2-ому коммиту:</b> \n",
    "\n",
    "На практике имеет смысл проверять только одну лучшую модель, которая выведена из предыдущего этапа.  \n",
    "Тестирование \"худших\" моделей смысла не имеет.  \n",
    "Поэтому часть кода закомментировал.  \n",
    "</div>"
   ]
  },
  {
   "cell_type": "markdown",
   "metadata": {},
   "source": [
    "### ROC-кривая моделей случайный лес  \n",
    "Визуализируем, как сильно построенные модели отличаются от случайной"
   ]
  },
  {
   "cell_type": "code",
   "execution_count": 34,
   "metadata": {},
   "outputs": [
    {
     "ename": "NameError",
     "evalue": "name 'fpr_forest' is not defined",
     "output_type": "error",
     "traceback": [
      "\u001b[1;31m---------------------------------------------------------------------------\u001b[0m",
      "\u001b[1;31mNameError\u001b[0m                                 Traceback (most recent call last)",
      "\u001b[1;32m~\\AppData\\Local\\Temp\\ipykernel_11272\\2281045082.py\u001b[0m in \u001b[0;36m<module>\u001b[1;34m\u001b[0m\n\u001b[0;32m      5\u001b[0m \u001b[0mplt\u001b[0m\u001b[1;33m.\u001b[0m\u001b[0mxlim\u001b[0m\u001b[1;33m(\u001b[0m\u001b[1;33m[\u001b[0m\u001b[1;36m0.0\u001b[0m\u001b[1;33m,\u001b[0m \u001b[1;36m1.0\u001b[0m\u001b[1;33m]\u001b[0m\u001b[1;33m)\u001b[0m\u001b[1;33m\u001b[0m\u001b[1;33m\u001b[0m\u001b[0m\n\u001b[0;32m      6\u001b[0m \u001b[0mplt\u001b[0m\u001b[1;33m.\u001b[0m\u001b[0mylim\u001b[0m\u001b[1;33m(\u001b[0m\u001b[1;33m[\u001b[0m\u001b[1;36m0.0\u001b[0m\u001b[1;33m,\u001b[0m \u001b[1;36m1.0\u001b[0m\u001b[1;33m]\u001b[0m\u001b[1;33m)\u001b[0m\u001b[1;33m\u001b[0m\u001b[1;33m\u001b[0m\u001b[0m\n\u001b[1;32m----> 7\u001b[1;33m \u001b[0mplt\u001b[0m\u001b[1;33m.\u001b[0m\u001b[0mplot\u001b[0m\u001b[1;33m(\u001b[0m\u001b[0mfpr_forest\u001b[0m\u001b[1;33m,\u001b[0m\u001b[0mtpr_forest\u001b[0m\u001b[1;33m)\u001b[0m\u001b[1;33m\u001b[0m\u001b[1;33m\u001b[0m\u001b[0m\n\u001b[0m\u001b[0;32m      8\u001b[0m \u001b[0mplt\u001b[0m\u001b[1;33m.\u001b[0m\u001b[0mplot\u001b[0m\u001b[1;33m(\u001b[0m\u001b[0mfpr_balanced_forest\u001b[0m\u001b[1;33m,\u001b[0m \u001b[0mtpr_balanced_forest\u001b[0m\u001b[1;33m)\u001b[0m\u001b[1;33m\u001b[0m\u001b[1;33m\u001b[0m\u001b[0m\n\u001b[0;32m      9\u001b[0m \u001b[0mplt\u001b[0m\u001b[1;33m.\u001b[0m\u001b[0mplot\u001b[0m\u001b[1;33m(\u001b[0m\u001b[0mfpr_upsampling_forest\u001b[0m\u001b[1;33m,\u001b[0m \u001b[0mtpr_upsampling_forest\u001b[0m\u001b[1;33m)\u001b[0m\u001b[1;33m\u001b[0m\u001b[1;33m\u001b[0m\u001b[0m\n",
      "\u001b[1;31mNameError\u001b[0m: name 'fpr_forest' is not defined"
     ]
    },
    {
     "data": {
      "text/plain": [
       "<Figure size 640x480 with 0 Axes>"
      ]
     },
     "metadata": {},
     "output_type": "display_data"
    },
    {
     "data": {
      "image/png": "[encoded data removed]",
      "text/plain": [
       "<Figure size 1000x700 with 1 Axes>"
      ]
     },
     "metadata": {},
     "output_type": "display_data"
    }
   ],
   "source": [
    "plt.figure()\n",
    "\n",
    "plt.figure(figsize=(10,7))\n",
    "plt.plot([0, 1], [0, 1], linestyle='--')\n",
    "plt.xlim([0.0, 1.0])\n",
    "plt.ylim([0.0, 1.0])\n",
    "plt.plot(fpr_forest,tpr_forest)\n",
    "plt.plot(fpr_balanced_forest, tpr_balanced_forest)\n",
    "plt.plot(fpr_upsampling_forest, tpr_upsampling_forest)\n",
    "plt.plot(fpr_downsampling_forest, tpr_downsampling_forest)\n",
    "plt.xlabel('False Positive Rate')\n",
    "plt.ylabel('True Positive Rate')\n",
    "plt.title('ROC-кривая')\n",
    "plt.legend(\n",
    "    ('Случайная модель', \n",
    "     'Случайный лес без балансировки', \n",
    "     'Случайный лес взвешивание классов', \n",
    "     'Случайный лес увеличение выборки', 'Случайный лес уменьшение выборки'\n",
    "    ),\n",
    "           loc= 'upper left') \n",
    "plt.show()"
   ]
  },
  {
   "cell_type": "markdown",
   "metadata": {},
   "source": [
    "### Вывод  \n",
    "\n",
    "Наибольшую эффективность показала модель случаного леса, где была применена методика взвешивания классов.  \n",
    "Модель сохранена в переменной `best_balanced_model_forest`   \n",
    "Гиперпараметры модели:\n",
    "- Кол-во деревьей: 10 \n",
    "- Глубина: 9  \n",
    "На тестовых данных модель показала:\n",
    "- F1 модели 0.5844155844155845 \n",
    "- AUC-ROC модели: 0.8287162514333368\n",
    "\n",
    "Таким образом, можно сделать вывод, что модель эффективна и адекватна.  "
   ]
  },
  {
   "cell_type": "markdown",
   "metadata": {},
   "source": [
    "## Итоговый вывод  \n",
    "В рамках проекта решалась задача прогнозирования - уйдёт клиент из банка в ближайшее время или нет.  \n",
    "Для исследования были предоставлены исторические данные о поведении клиентов и расторжении договоров с банком.  \n",
    "Задача была решена по этапам:\n",
    "1. Подготовка данных\n",
    "    - Исходные данные загружены и исследованы\n",
    "    - Из данных удалены лишние столбцы и объекты с пропусками\n",
    "    - Категориальные признаки преобразованы в числовые\n",
    "    - Выполнено масштабирование числовых признаков\n",
    "    - В данных выделены признаки и целевой признак - факт ухода клиента\n",
    "    - Данные разбиты на обучающую, валидационную и тестовые выборки\n",
    "2. Исследование задачи\n",
    "    - Исследован баланс классов и выявлен их дисбаланс\n",
    "    - Построены модели прогнозирования ухода клиента без учета дисбаланса классов:\n",
    "        - Дерево решений\n",
    "        - Случайный лес\n",
    "        - Логическая регрессия\n",
    "3. Повторное моделирование с учетом балансирования классов методами:\n",
    "    - Взвешивание классов\n",
    "    - Увеличение выборки\n",
    "    - Уменьшение выборки\n",
    "4. Тестирование лучших моделей\n",
    "\n",
    "В задании на проект требовалось построить модель с предельно большим значением F1-меры.  \n",
    "При этом, значение F1 модели должно быть не ниже 0.59.  \n",
    "Наибольшую эффективность показала модель случайного леса, где была применена методика взвешивания классов.  \n",
    "Значение F1 модели - `0.6408977556109726`  \n",
    "Модель сохранена в переменной `best_balanced_model_forest`   \n",
    "Гиперпараметры модели:\n",
    "- Кол-во деревьев: 10 \n",
    "- Глубина: 9  \n",
    "\n",
    "Дополнительно проводилось измерение AUC-ROC.  \n",
    "AUC-ROC модели: 0.8668832438896723  \n",
    "Таким образом, полученные метрики позволяют сделать вывод, что построенная модель эффективна и адекватна.  \n",
    "Цели проекта выполнены.  \n",
    "Используя модель, можно с высокой эффективностью спрогнозировать, какие клиенты в ближайшее время могут уйти из банка.  \n",
    "Соответственно, для них можно разработать программы по удержанию.  \n"
   ]
  },
  {
   "cell_type": "markdown",
   "metadata": {},
   "source": [
    "## Чек-лист готовности проекта"
   ]
  },
  {
   "cell_type": "markdown",
   "metadata": {},
   "source": [
    "Поставьте 'x' в выполненных пунктах. Далее нажмите Shift+Enter."
   ]
  },
  {
   "cell_type": "markdown",
   "metadata": {},
   "source": [
    "- [x]  Jupyter Notebook открыт\n",
    "- [x]  Весь код выполняется без ошибок\n",
    "- [x]  Ячейки с кодом расположены в порядке исполнения\n",
    "- [x]  Выполнен шаг 1: данные подготовлены\n",
    "- [x]  Выполнен шаг 2: задача исследована\n",
    "    - [x]  Исследован баланс классов\n",
    "    - [x]  Изучены модели без учёта дисбаланса\n",
    "    - [x]  Написаны выводы по результатам исследования\n",
    "- [x]  Выполнен шаг 3: учтён дисбаланс\n",
    "    - [x]  Применено несколько способов борьбы с дисбалансом\n",
    "    - [x]  Написаны выводы по результатам исследования\n",
    "- [x]  Выполнен шаг 4: проведено тестирование\n",
    "- [x]  Удалось достичь *F1*-меры не менее 0.59\n",
    "- [x]  Исследована метрика *AUC-ROC*"
   ]
  }
 ],
 "metadata": {
  "ExecuteTimeLog": [
   {
    "duration": 46,
    "start_time": "2023-02-27T10:41:08.553Z"
   },
   {
    "duration": 1133,
    "start_time": "2023-02-27T10:41:47.680Z"
   },
   {
    "duration": 185,
    "start_time": "2023-02-27T10:44:19.402Z"
   },
   {
    "duration": 57,
    "start_time": "2023-02-27T10:48:23.757Z"
   },
   {
    "duration": 52,
    "start_time": "2023-02-27T10:48:26.923Z"
   },
   {
    "duration": 18,
    "start_time": "2023-02-27T10:48:44.127Z"
   },
   {
    "duration": 13,
    "start_time": "2023-02-27T10:48:58.057Z"
   },
   {
    "duration": 4,
    "start_time": "2023-02-27T10:49:22.227Z"
   },
   {
    "duration": 73,
    "start_time": "2023-02-27T10:50:29.032Z"
   },
   {
    "duration": 12,
    "start_time": "2023-02-27T10:50:39.484Z"
   },
   {
    "duration": 16,
    "start_time": "2023-02-27T10:52:42.307Z"
   },
   {
    "duration": 5,
    "start_time": "2023-02-27T10:53:39.664Z"
   },
   {
    "duration": 13,
    "start_time": "2023-02-27T10:54:20.165Z"
   },
   {
    "duration": 17,
    "start_time": "2023-02-27T10:54:36.318Z"
   },
   {
    "duration": 25,
    "start_time": "2023-02-27T10:56:48.481Z"
   },
   {
    "duration": 11,
    "start_time": "2023-02-27T11:02:09.951Z"
   },
   {
    "duration": 4,
    "start_time": "2023-02-27T11:02:32.819Z"
   },
   {
    "duration": 9,
    "start_time": "2023-02-27T11:03:10.669Z"
   },
   {
    "duration": 5,
    "start_time": "2023-02-27T11:03:55.784Z"
   },
   {
    "duration": 17,
    "start_time": "2023-02-27T13:07:11.417Z"
   },
   {
    "duration": 12,
    "start_time": "2023-02-27T13:09:24.830Z"
   },
   {
    "duration": 13,
    "start_time": "2023-02-27T13:16:41.058Z"
   },
   {
    "duration": 3,
    "start_time": "2023-02-27T13:27:20.646Z"
   },
   {
    "duration": 2,
    "start_time": "2023-02-27T13:27:23.959Z"
   },
   {
    "duration": 16,
    "start_time": "2023-02-27T13:28:06.537Z"
   },
   {
    "duration": 4,
    "start_time": "2023-02-27T13:28:19.057Z"
   },
   {
    "duration": 3,
    "start_time": "2023-02-27T13:28:27.066Z"
   },
   {
    "duration": 3,
    "start_time": "2023-02-27T13:28:39.296Z"
   },
   {
    "duration": 13,
    "start_time": "2023-02-27T13:28:52.075Z"
   },
   {
    "duration": 9,
    "start_time": "2023-02-27T13:36:06.706Z"
   },
   {
    "duration": 5,
    "start_time": "2023-02-27T13:36:53.699Z"
   },
   {
    "duration": 4,
    "start_time": "2023-02-27T14:06:58.122Z"
   },
   {
    "duration": 11,
    "start_time": "2023-02-27T14:07:16.707Z"
   },
   {
    "duration": 42,
    "start_time": "2023-02-27T14:57:20.312Z"
   },
   {
    "duration": 12,
    "start_time": "2023-02-27T14:57:20.356Z"
   },
   {
    "duration": 12,
    "start_time": "2023-02-27T14:57:20.370Z"
   },
   {
    "duration": 7,
    "start_time": "2023-02-27T14:57:20.384Z"
   },
   {
    "duration": 10,
    "start_time": "2023-02-27T14:57:20.393Z"
   },
   {
    "duration": 8,
    "start_time": "2023-02-27T14:57:51.403Z"
   },
   {
    "duration": 14,
    "start_time": "2023-02-27T14:58:21.572Z"
   },
   {
    "duration": 10,
    "start_time": "2023-02-27T15:04:41.856Z"
   },
   {
    "duration": 8,
    "start_time": "2023-02-27T15:04:53.449Z"
   },
   {
    "duration": 20,
    "start_time": "2023-02-27T16:18:49.009Z"
   },
   {
    "duration": 16,
    "start_time": "2023-02-27T16:19:31.069Z"
   },
   {
    "duration": 13,
    "start_time": "2023-02-27T16:19:48.564Z"
   },
   {
    "duration": 12,
    "start_time": "2023-02-27T16:21:48.873Z"
   },
   {
    "duration": 15,
    "start_time": "2023-02-27T16:25:41.959Z"
   },
   {
    "duration": 14,
    "start_time": "2023-02-27T16:29:27.162Z"
   },
   {
    "duration": 44,
    "start_time": "2023-02-27T16:29:38.759Z"
   },
   {
    "duration": 13,
    "start_time": "2023-02-27T16:29:38.806Z"
   },
   {
    "duration": 15,
    "start_time": "2023-02-27T16:29:38.821Z"
   },
   {
    "duration": 15,
    "start_time": "2023-02-27T16:29:38.837Z"
   },
   {
    "duration": 8,
    "start_time": "2023-02-27T16:29:38.854Z"
   },
   {
    "duration": 28,
    "start_time": "2023-02-27T16:29:38.863Z"
   },
   {
    "duration": 17,
    "start_time": "2023-02-27T16:29:42.904Z"
   },
   {
    "duration": 23,
    "start_time": "2023-02-27T16:30:43.182Z"
   },
   {
    "duration": 15,
    "start_time": "2023-02-27T16:30:49.231Z"
   },
   {
    "duration": 15,
    "start_time": "2023-02-27T16:38:28.292Z"
   },
   {
    "duration": 41,
    "start_time": "2023-02-27T16:53:10.203Z"
   },
   {
    "duration": 12,
    "start_time": "2023-02-27T16:53:10.246Z"
   },
   {
    "duration": 19,
    "start_time": "2023-02-27T16:53:10.260Z"
   },
   {
    "duration": 22,
    "start_time": "2023-02-27T16:53:10.281Z"
   },
   {
    "duration": 9,
    "start_time": "2023-02-27T16:53:10.304Z"
   },
   {
    "duration": 9,
    "start_time": "2023-02-27T16:53:10.314Z"
   },
   {
    "duration": 19,
    "start_time": "2023-02-27T16:53:10.324Z"
   },
   {
    "duration": 17,
    "start_time": "2023-02-27T16:53:10.345Z"
   },
   {
    "duration": 5,
    "start_time": "2023-02-27T17:01:34.174Z"
   },
   {
    "duration": 6,
    "start_time": "2023-02-27T17:02:14.299Z"
   },
   {
    "duration": 1983,
    "start_time": "2023-02-27T17:03:40.193Z"
   },
   {
    "duration": 20,
    "start_time": "2023-02-27T17:18:00.249Z"
   },
   {
    "duration": 8,
    "start_time": "2023-02-27T17:28:45.488Z"
   },
   {
    "duration": 39,
    "start_time": "2023-02-27T17:41:45.115Z"
   },
   {
    "duration": 11,
    "start_time": "2023-02-27T17:41:45.157Z"
   },
   {
    "duration": 28,
    "start_time": "2023-02-27T17:41:45.170Z"
   },
   {
    "duration": 24,
    "start_time": "2023-02-27T17:41:45.199Z"
   },
   {
    "duration": 6,
    "start_time": "2023-02-27T17:41:45.226Z"
   },
   {
    "duration": 5,
    "start_time": "2023-02-27T17:41:45.234Z"
   },
   {
    "duration": 17,
    "start_time": "2023-02-27T17:41:45.241Z"
   },
   {
    "duration": 40,
    "start_time": "2023-02-27T17:41:45.259Z"
   },
   {
    "duration": 10,
    "start_time": "2023-02-27T17:41:45.301Z"
   },
   {
    "duration": 10,
    "start_time": "2023-02-27T17:41:50.800Z"
   },
   {
    "duration": 13,
    "start_time": "2023-02-27T17:42:28.645Z"
   },
   {
    "duration": 8,
    "start_time": "2023-02-27T17:44:22.312Z"
   },
   {
    "duration": 6,
    "start_time": "2023-02-27T17:45:09.274Z"
   },
   {
    "duration": 15,
    "start_time": "2023-02-27T17:46:04.569Z"
   },
   {
    "duration": 18,
    "start_time": "2023-02-27T17:46:13.997Z"
   },
   {
    "duration": 16,
    "start_time": "2023-02-27T17:48:16.502Z"
   },
   {
    "duration": 41,
    "start_time": "2023-02-27T17:48:43.179Z"
   },
   {
    "duration": 13,
    "start_time": "2023-02-27T17:48:43.222Z"
   },
   {
    "duration": 26,
    "start_time": "2023-02-27T17:48:43.236Z"
   },
   {
    "duration": 12,
    "start_time": "2023-02-27T17:48:43.264Z"
   },
   {
    "duration": 5,
    "start_time": "2023-02-27T17:48:43.278Z"
   },
   {
    "duration": 6,
    "start_time": "2023-02-27T17:48:43.285Z"
   },
   {
    "duration": 14,
    "start_time": "2023-02-27T17:48:43.293Z"
   },
   {
    "duration": 24,
    "start_time": "2023-02-27T17:48:43.309Z"
   },
   {
    "duration": 6,
    "start_time": "2023-02-27T17:48:43.335Z"
   },
   {
    "duration": 28,
    "start_time": "2023-02-27T17:48:43.343Z"
   },
   {
    "duration": 1530,
    "start_time": "2023-02-27T17:48:43.392Z"
   },
   {
    "duration": 3,
    "start_time": "2023-02-27T17:48:44.924Z"
   },
   {
    "duration": 23,
    "start_time": "2023-02-27T17:56:58.245Z"
   },
   {
    "duration": 23,
    "start_time": "2023-02-27T17:58:42.150Z"
   },
   {
    "duration": 38,
    "start_time": "2023-02-27T17:59:18.566Z"
   },
   {
    "duration": 11,
    "start_time": "2023-02-27T17:59:18.606Z"
   },
   {
    "duration": 21,
    "start_time": "2023-02-27T17:59:18.618Z"
   },
   {
    "duration": 17,
    "start_time": "2023-02-27T17:59:18.641Z"
   },
   {
    "duration": 5,
    "start_time": "2023-02-27T17:59:18.661Z"
   },
   {
    "duration": 21,
    "start_time": "2023-02-27T17:59:18.667Z"
   },
   {
    "duration": 29,
    "start_time": "2023-02-27T17:59:18.690Z"
   },
   {
    "duration": 16,
    "start_time": "2023-02-27T17:59:18.721Z"
   },
   {
    "duration": 5,
    "start_time": "2023-02-27T17:59:18.739Z"
   },
   {
    "duration": 13,
    "start_time": "2023-02-27T17:59:18.745Z"
   },
   {
    "duration": 1447,
    "start_time": "2023-02-27T17:59:18.760Z"
   },
   {
    "duration": 22,
    "start_time": "2023-02-27T17:59:20.209Z"
   },
   {
    "duration": 19,
    "start_time": "2023-02-27T18:00:38.767Z"
   },
   {
    "duration": 19,
    "start_time": "2023-02-27T18:01:18.931Z"
   },
   {
    "duration": 32,
    "start_time": "2023-02-27T18:01:47.842Z"
   },
   {
    "duration": 39,
    "start_time": "2023-02-27T18:06:05.659Z"
   },
   {
    "duration": 13,
    "start_time": "2023-02-27T18:06:05.700Z"
   },
   {
    "duration": 29,
    "start_time": "2023-02-27T18:06:05.714Z"
   },
   {
    "duration": 24,
    "start_time": "2023-02-27T18:06:05.745Z"
   },
   {
    "duration": 6,
    "start_time": "2023-02-27T18:06:05.772Z"
   },
   {
    "duration": 21,
    "start_time": "2023-02-27T18:06:05.779Z"
   },
   {
    "duration": 21,
    "start_time": "2023-02-27T18:06:05.801Z"
   },
   {
    "duration": 24,
    "start_time": "2023-02-27T18:06:05.824Z"
   },
   {
    "duration": 16,
    "start_time": "2023-02-27T18:06:05.851Z"
   },
   {
    "duration": 12,
    "start_time": "2023-02-27T18:06:05.868Z"
   },
   {
    "duration": 1540,
    "start_time": "2023-02-27T18:06:05.881Z"
   },
   {
    "duration": 28,
    "start_time": "2023-02-27T18:06:07.423Z"
   },
   {
    "duration": 4,
    "start_time": "2023-02-27T18:27:18.082Z"
   },
   {
    "duration": 4,
    "start_time": "2023-02-27T18:28:14.003Z"
   },
   {
    "duration": 5,
    "start_time": "2023-02-27T18:28:31.959Z"
   },
   {
    "duration": 3,
    "start_time": "2023-02-27T18:30:25.709Z"
   },
   {
    "duration": 4,
    "start_time": "2023-02-27T18:30:34.920Z"
   },
   {
    "duration": 4,
    "start_time": "2023-02-27T18:32:19.964Z"
   },
   {
    "duration": 5,
    "start_time": "2023-02-27T18:32:55.338Z"
   },
   {
    "duration": 1340,
    "start_time": "2023-02-28T16:20:26.887Z"
   },
   {
    "duration": 16,
    "start_time": "2023-02-28T16:20:28.229Z"
   },
   {
    "duration": 62,
    "start_time": "2023-02-28T16:20:28.247Z"
   },
   {
    "duration": 18,
    "start_time": "2023-02-28T16:20:28.311Z"
   },
   {
    "duration": 5,
    "start_time": "2023-02-28T16:20:28.342Z"
   },
   {
    "duration": 16,
    "start_time": "2023-02-28T16:20:28.349Z"
   },
   {
    "duration": 37,
    "start_time": "2023-02-28T16:20:28.367Z"
   },
   {
    "duration": 19,
    "start_time": "2023-02-28T16:20:28.406Z"
   },
   {
    "duration": 35,
    "start_time": "2023-02-28T16:20:28.431Z"
   },
   {
    "duration": 16,
    "start_time": "2023-02-28T16:20:28.468Z"
   },
   {
    "duration": 2096,
    "start_time": "2023-02-28T16:20:28.485Z"
   },
   {
    "duration": 33,
    "start_time": "2023-02-28T16:20:30.583Z"
   },
   {
    "duration": 105,
    "start_time": "2023-02-28T16:20:30.617Z"
   },
   {
    "duration": 59,
    "start_time": "2023-02-28T16:20:54.241Z"
   },
   {
    "duration": 53,
    "start_time": "2023-02-28T16:28:12.457Z"
   },
   {
    "duration": 111,
    "start_time": "2023-02-28T16:33:02.886Z"
   },
   {
    "duration": 128,
    "start_time": "2023-02-28T16:33:18.562Z"
   },
   {
    "duration": 132,
    "start_time": "2023-02-28T16:34:14.681Z"
   },
   {
    "duration": 4,
    "start_time": "2023-02-28T16:42:11.894Z"
   },
   {
    "duration": 4,
    "start_time": "2023-02-28T16:58:02.485Z"
   },
   {
    "duration": 3,
    "start_time": "2023-02-28T16:59:00.053Z"
   },
   {
    "duration": 1266,
    "start_time": "2023-03-01T09:13:40.077Z"
   },
   {
    "duration": 17,
    "start_time": "2023-03-01T09:13:41.346Z"
   },
   {
    "duration": 19,
    "start_time": "2023-03-01T09:13:41.365Z"
   },
   {
    "duration": 10,
    "start_time": "2023-03-01T09:13:41.386Z"
   },
   {
    "duration": 4,
    "start_time": "2023-03-01T09:13:41.398Z"
   },
   {
    "duration": 5,
    "start_time": "2023-03-01T09:13:41.403Z"
   },
   {
    "duration": 33,
    "start_time": "2023-03-01T09:13:41.410Z"
   },
   {
    "duration": 18,
    "start_time": "2023-03-01T09:13:41.445Z"
   },
   {
    "duration": 6,
    "start_time": "2023-03-01T09:13:41.465Z"
   },
   {
    "duration": 19,
    "start_time": "2023-03-01T09:13:41.473Z"
   },
   {
    "duration": 69,
    "start_time": "2023-03-01T09:13:41.494Z"
   },
   {
    "duration": 34,
    "start_time": "2023-03-01T09:13:41.565Z"
   },
   {
    "duration": 611,
    "start_time": "2023-03-01T09:13:41.601Z"
   },
   {
    "duration": 5,
    "start_time": "2023-03-01T09:13:42.214Z"
   },
   {
    "duration": 13,
    "start_time": "2023-03-01T09:18:43.756Z"
   },
   {
    "duration": 132,
    "start_time": "2023-03-01T09:24:04.282Z"
   },
   {
    "duration": 36,
    "start_time": "2023-03-01T09:25:43.353Z"
   },
   {
    "duration": 12,
    "start_time": "2023-03-01T09:25:43.391Z"
   },
   {
    "duration": 15,
    "start_time": "2023-03-01T09:25:43.405Z"
   },
   {
    "duration": 17,
    "start_time": "2023-03-01T09:25:43.423Z"
   },
   {
    "duration": 14,
    "start_time": "2023-03-01T09:25:43.442Z"
   },
   {
    "duration": 7,
    "start_time": "2023-03-01T09:25:43.457Z"
   },
   {
    "duration": 15,
    "start_time": "2023-03-01T09:25:43.466Z"
   },
   {
    "duration": 17,
    "start_time": "2023-03-01T09:25:43.482Z"
   },
   {
    "duration": 12,
    "start_time": "2023-03-01T09:25:43.501Z"
   },
   {
    "duration": 24,
    "start_time": "2023-03-01T09:25:43.529Z"
   },
   {
    "duration": 19,
    "start_time": "2023-03-01T09:25:43.555Z"
   },
   {
    "duration": 0,
    "start_time": "2023-03-01T09:25:43.575Z"
   },
   {
    "duration": 0,
    "start_time": "2023-03-01T09:25:43.577Z"
   },
   {
    "duration": 0,
    "start_time": "2023-03-01T09:25:43.578Z"
   },
   {
    "duration": 0,
    "start_time": "2023-03-01T09:25:43.579Z"
   },
   {
    "duration": 10,
    "start_time": "2023-03-01T09:27:15.940Z"
   },
   {
    "duration": 12,
    "start_time": "2023-03-01T09:27:29.282Z"
   },
   {
    "duration": 10,
    "start_time": "2023-03-01T09:28:03.443Z"
   },
   {
    "duration": 9,
    "start_time": "2023-03-01T09:30:19.364Z"
   },
   {
    "duration": 36,
    "start_time": "2023-03-01T09:38:05.686Z"
   },
   {
    "duration": 13,
    "start_time": "2023-03-01T09:38:05.724Z"
   },
   {
    "duration": 13,
    "start_time": "2023-03-01T09:38:05.738Z"
   },
   {
    "duration": 12,
    "start_time": "2023-03-01T09:38:05.753Z"
   },
   {
    "duration": 5,
    "start_time": "2023-03-01T09:38:05.767Z"
   },
   {
    "duration": 9,
    "start_time": "2023-03-01T09:38:05.774Z"
   },
   {
    "duration": 14,
    "start_time": "2023-03-01T09:38:05.785Z"
   },
   {
    "duration": 19,
    "start_time": "2023-03-01T09:38:05.826Z"
   },
   {
    "duration": 13,
    "start_time": "2023-03-01T09:38:05.846Z"
   },
   {
    "duration": 13,
    "start_time": "2023-03-01T09:38:05.861Z"
   },
   {
    "duration": 10,
    "start_time": "2023-03-01T09:38:05.875Z"
   },
   {
    "duration": 0,
    "start_time": "2023-03-01T09:38:05.887Z"
   },
   {
    "duration": 0,
    "start_time": "2023-03-01T09:38:05.888Z"
   },
   {
    "duration": 0,
    "start_time": "2023-03-01T09:38:05.889Z"
   },
   {
    "duration": 0,
    "start_time": "2023-03-01T09:38:05.891Z"
   },
   {
    "duration": 37,
    "start_time": "2023-03-01T09:39:21.277Z"
   },
   {
    "duration": 12,
    "start_time": "2023-03-01T09:39:21.316Z"
   },
   {
    "duration": 14,
    "start_time": "2023-03-01T09:39:21.330Z"
   },
   {
    "duration": 16,
    "start_time": "2023-03-01T09:39:21.346Z"
   },
   {
    "duration": 6,
    "start_time": "2023-03-01T09:39:21.366Z"
   },
   {
    "duration": 7,
    "start_time": "2023-03-01T09:39:21.374Z"
   },
   {
    "duration": 14,
    "start_time": "2023-03-01T09:39:21.383Z"
   },
   {
    "duration": 26,
    "start_time": "2023-03-01T09:39:21.427Z"
   },
   {
    "duration": 8,
    "start_time": "2023-03-01T09:39:21.455Z"
   },
   {
    "duration": 12,
    "start_time": "2023-03-01T09:39:21.466Z"
   },
   {
    "duration": 9,
    "start_time": "2023-03-01T09:39:21.480Z"
   },
   {
    "duration": 87,
    "start_time": "2023-03-01T09:39:21.491Z"
   },
   {
    "duration": 47,
    "start_time": "2023-03-01T09:39:21.580Z"
   },
   {
    "duration": 190,
    "start_time": "2023-03-01T09:39:21.630Z"
   },
   {
    "duration": 7,
    "start_time": "2023-03-01T09:39:21.821Z"
   },
   {
    "duration": 34,
    "start_time": "2023-03-01T09:41:36.680Z"
   },
   {
    "duration": 29,
    "start_time": "2023-03-01T09:52:43.328Z"
   },
   {
    "duration": 43,
    "start_time": "2023-03-01T09:53:56.605Z"
   },
   {
    "duration": 14,
    "start_time": "2023-03-01T09:53:56.650Z"
   },
   {
    "duration": 14,
    "start_time": "2023-03-01T09:53:56.666Z"
   },
   {
    "duration": 14,
    "start_time": "2023-03-01T09:53:56.681Z"
   },
   {
    "duration": 34,
    "start_time": "2023-03-01T09:53:56.698Z"
   },
   {
    "duration": 5,
    "start_time": "2023-03-01T09:53:56.734Z"
   },
   {
    "duration": 22,
    "start_time": "2023-03-01T09:53:56.741Z"
   },
   {
    "duration": 20,
    "start_time": "2023-03-01T09:53:56.765Z"
   },
   {
    "duration": 6,
    "start_time": "2023-03-01T09:53:56.787Z"
   },
   {
    "duration": 34,
    "start_time": "2023-03-01T09:53:56.795Z"
   },
   {
    "duration": 14,
    "start_time": "2023-03-01T09:53:56.832Z"
   },
   {
    "duration": 51,
    "start_time": "2023-03-01T09:53:56.849Z"
   },
   {
    "duration": 57,
    "start_time": "2023-03-01T09:53:56.902Z"
   },
   {
    "duration": 153,
    "start_time": "2023-03-01T09:53:56.961Z"
   },
   {
    "duration": 5,
    "start_time": "2023-03-01T09:53:57.115Z"
   },
   {
    "duration": 209,
    "start_time": "2023-03-01T09:53:57.128Z"
   },
   {
    "duration": 197,
    "start_time": "2023-03-01T10:12:48.229Z"
   },
   {
    "duration": 31,
    "start_time": "2023-03-01T10:18:47.684Z"
   },
   {
    "duration": 38,
    "start_time": "2023-03-01T10:19:37.275Z"
   },
   {
    "duration": 13,
    "start_time": "2023-03-01T10:19:37.315Z"
   },
   {
    "duration": 32,
    "start_time": "2023-03-01T10:19:37.330Z"
   },
   {
    "duration": 19,
    "start_time": "2023-03-01T10:19:37.364Z"
   },
   {
    "duration": 8,
    "start_time": "2023-03-01T10:19:37.386Z"
   },
   {
    "duration": 37,
    "start_time": "2023-03-01T10:19:37.396Z"
   },
   {
    "duration": 32,
    "start_time": "2023-03-01T10:19:37.435Z"
   },
   {
    "duration": 19,
    "start_time": "2023-03-01T10:19:37.468Z"
   },
   {
    "duration": 7,
    "start_time": "2023-03-01T10:19:37.489Z"
   },
   {
    "duration": 18,
    "start_time": "2023-03-01T10:19:37.499Z"
   },
   {
    "duration": 13,
    "start_time": "2023-03-01T10:19:37.519Z"
   },
   {
    "duration": 41,
    "start_time": "2023-03-01T10:19:37.534Z"
   },
   {
    "duration": 33,
    "start_time": "2023-03-01T10:19:37.577Z"
   },
   {
    "duration": 198,
    "start_time": "2023-03-01T10:19:37.629Z"
   },
   {
    "duration": 5,
    "start_time": "2023-03-01T10:19:37.829Z"
   },
   {
    "duration": 33,
    "start_time": "2023-03-01T10:19:37.835Z"
   },
   {
    "duration": 58,
    "start_time": "2023-03-01T11:07:12.326Z"
   },
   {
    "duration": 11,
    "start_time": "2023-03-01T11:07:12.386Z"
   },
   {
    "duration": 12,
    "start_time": "2023-03-01T11:07:12.399Z"
   },
   {
    "duration": 11,
    "start_time": "2023-03-01T11:07:12.413Z"
   },
   {
    "duration": 6,
    "start_time": "2023-03-01T11:07:12.426Z"
   },
   {
    "duration": 30,
    "start_time": "2023-03-01T11:07:12.435Z"
   },
   {
    "duration": 14,
    "start_time": "2023-03-01T11:07:12.467Z"
   },
   {
    "duration": 17,
    "start_time": "2023-03-01T11:07:12.482Z"
   },
   {
    "duration": 102,
    "start_time": "2023-03-01T11:07:12.500Z"
   },
   {
    "duration": 10,
    "start_time": "2023-03-01T11:07:12.604Z"
   },
   {
    "duration": 27,
    "start_time": "2023-03-01T11:07:12.615Z"
   },
   {
    "duration": 55,
    "start_time": "2023-03-01T11:07:12.644Z"
   },
   {
    "duration": 50,
    "start_time": "2023-03-01T11:07:12.702Z"
   },
   {
    "duration": 152,
    "start_time": "2023-03-01T11:07:12.757Z"
   },
   {
    "duration": 5,
    "start_time": "2023-03-01T11:07:12.911Z"
   },
   {
    "duration": 41,
    "start_time": "2023-03-01T11:07:12.918Z"
   },
   {
    "duration": 199,
    "start_time": "2023-03-01T13:01:02.855Z"
   },
   {
    "duration": 168,
    "start_time": "2023-03-01T13:01:28.504Z"
   },
   {
    "duration": 50,
    "start_time": "2023-03-01T13:02:56.841Z"
   },
   {
    "duration": 1630,
    "start_time": "2023-03-02T15:22:01.185Z"
   },
   {
    "duration": 15,
    "start_time": "2023-03-02T15:22:02.818Z"
   },
   {
    "duration": 55,
    "start_time": "2023-03-02T15:22:02.835Z"
   },
   {
    "duration": 38,
    "start_time": "2023-03-02T15:22:02.899Z"
   },
   {
    "duration": 5,
    "start_time": "2023-03-02T15:22:02.940Z"
   },
   {
    "duration": 50,
    "start_time": "2023-03-02T15:22:02.953Z"
   },
   {
    "duration": 46,
    "start_time": "2023-03-02T15:22:03.006Z"
   },
   {
    "duration": 46,
    "start_time": "2023-03-02T15:22:03.057Z"
   },
   {
    "duration": 22,
    "start_time": "2023-03-02T15:22:03.107Z"
   },
   {
    "duration": 25,
    "start_time": "2023-03-02T15:22:03.131Z"
   },
   {
    "duration": 63,
    "start_time": "2023-03-02T15:22:03.158Z"
   },
   {
    "duration": 102,
    "start_time": "2023-03-02T15:22:03.223Z"
   },
   {
    "duration": 39,
    "start_time": "2023-03-02T15:22:03.327Z"
   },
   {
    "duration": 830,
    "start_time": "2023-03-02T15:22:03.373Z"
   },
   {
    "duration": 5,
    "start_time": "2023-03-02T15:22:04.207Z"
   },
   {
    "duration": 201,
    "start_time": "2023-03-02T15:32:42.489Z"
   },
   {
    "duration": 178,
    "start_time": "2023-03-02T15:44:16.666Z"
   },
   {
    "duration": 3673,
    "start_time": "2023-03-02T15:45:20.519Z"
   },
   {
    "duration": 5092,
    "start_time": "2023-03-02T15:49:30.323Z"
   },
   {
    "duration": 4940,
    "start_time": "2023-03-02T15:50:30.178Z"
   },
   {
    "duration": 26087,
    "start_time": "2023-03-02T15:50:57.876Z"
   },
   {
    "duration": 21562,
    "start_time": "2023-03-02T16:01:48.298Z"
   },
   {
    "duration": 21458,
    "start_time": "2023-03-02T16:02:28.891Z"
   },
   {
    "duration": 12346,
    "start_time": "2023-03-02T16:03:34.177Z"
   },
   {
    "duration": 47,
    "start_time": "2023-03-02T16:06:01.880Z"
   },
   {
    "duration": 17,
    "start_time": "2023-03-02T16:06:01.930Z"
   },
   {
    "duration": 45,
    "start_time": "2023-03-02T16:06:01.951Z"
   },
   {
    "duration": 46,
    "start_time": "2023-03-02T16:06:01.998Z"
   },
   {
    "duration": 59,
    "start_time": "2023-03-02T16:06:02.045Z"
   },
   {
    "duration": 31,
    "start_time": "2023-03-02T16:06:02.106Z"
   },
   {
    "duration": 39,
    "start_time": "2023-03-02T16:06:02.138Z"
   },
   {
    "duration": 39,
    "start_time": "2023-03-02T16:06:02.179Z"
   },
   {
    "duration": 18,
    "start_time": "2023-03-02T16:06:02.219Z"
   },
   {
    "duration": 49,
    "start_time": "2023-03-02T16:06:02.240Z"
   },
   {
    "duration": 27,
    "start_time": "2023-03-02T16:06:02.290Z"
   },
   {
    "duration": 67,
    "start_time": "2023-03-02T16:06:02.319Z"
   },
   {
    "duration": 34,
    "start_time": "2023-03-02T16:06:02.387Z"
   },
   {
    "duration": 155,
    "start_time": "2023-03-02T16:06:02.423Z"
   },
   {
    "duration": 4,
    "start_time": "2023-03-02T16:06:02.579Z"
   },
   {
    "duration": 235,
    "start_time": "2023-03-02T16:06:02.585Z"
   },
   {
    "duration": 12446,
    "start_time": "2023-03-02T16:06:02.822Z"
   },
   {
    "duration": 12304,
    "start_time": "2023-03-02T16:07:22.363Z"
   },
   {
    "duration": 856,
    "start_time": "2023-03-02T16:14:25.297Z"
   },
   {
    "duration": 733,
    "start_time": "2023-03-02T16:14:44.929Z"
   },
   {
    "duration": 474,
    "start_time": "2023-03-02T16:16:46.898Z"
   },
   {
    "duration": 113,
    "start_time": "2023-03-02T16:18:33.112Z"
   },
   {
    "duration": 40,
    "start_time": "2023-03-02T16:40:45.265Z"
   },
   {
    "duration": 11,
    "start_time": "2023-03-02T16:40:45.307Z"
   },
   {
    "duration": 13,
    "start_time": "2023-03-02T16:40:45.319Z"
   },
   {
    "duration": 39,
    "start_time": "2023-03-02T16:40:45.333Z"
   },
   {
    "duration": 6,
    "start_time": "2023-03-02T16:40:45.376Z"
   },
   {
    "duration": 39,
    "start_time": "2023-03-02T16:40:45.384Z"
   },
   {
    "duration": 35,
    "start_time": "2023-03-02T16:40:45.426Z"
   },
   {
    "duration": 48,
    "start_time": "2023-03-02T16:40:45.464Z"
   },
   {
    "duration": 14,
    "start_time": "2023-03-02T16:40:45.515Z"
   },
   {
    "duration": 70,
    "start_time": "2023-03-02T16:40:45.531Z"
   },
   {
    "duration": 18,
    "start_time": "2023-03-02T16:40:45.603Z"
   },
   {
    "duration": 56,
    "start_time": "2023-03-02T16:40:45.623Z"
   },
   {
    "duration": 53,
    "start_time": "2023-03-02T16:40:45.681Z"
   },
   {
    "duration": 236,
    "start_time": "2023-03-02T16:40:45.737Z"
   },
   {
    "duration": 4,
    "start_time": "2023-03-02T16:40:45.975Z"
   },
   {
    "duration": 171,
    "start_time": "2023-03-02T16:40:45.980Z"
   },
   {
    "duration": 11193,
    "start_time": "2023-03-02T16:40:46.153Z"
   },
   {
    "duration": 210,
    "start_time": "2023-03-02T16:40:57.348Z"
   },
   {
    "duration": 1225,
    "start_time": "2023-03-02T18:57:21.921Z"
   },
   {
    "duration": 13,
    "start_time": "2023-03-02T18:57:23.148Z"
   },
   {
    "duration": 18,
    "start_time": "2023-03-02T18:57:23.162Z"
   },
   {
    "duration": 11,
    "start_time": "2023-03-02T18:57:23.182Z"
   },
   {
    "duration": 4,
    "start_time": "2023-03-02T18:57:23.195Z"
   },
   {
    "duration": 8,
    "start_time": "2023-03-02T18:57:23.200Z"
   },
   {
    "duration": 40,
    "start_time": "2023-03-02T18:57:23.209Z"
   },
   {
    "duration": 17,
    "start_time": "2023-03-02T18:57:23.251Z"
   },
   {
    "duration": 6,
    "start_time": "2023-03-02T18:57:23.269Z"
   },
   {
    "duration": 9,
    "start_time": "2023-03-02T18:57:23.276Z"
   },
   {
    "duration": 7,
    "start_time": "2023-03-02T18:57:23.287Z"
   },
   {
    "duration": 67,
    "start_time": "2023-03-02T18:57:23.295Z"
   },
   {
    "duration": 35,
    "start_time": "2023-03-02T18:57:23.364Z"
   },
   {
    "duration": 572,
    "start_time": "2023-03-02T18:57:23.402Z"
   },
   {
    "duration": 5,
    "start_time": "2023-03-02T18:57:23.976Z"
   },
   {
    "duration": 189,
    "start_time": "2023-03-02T18:57:23.982Z"
   },
   {
    "duration": 11298,
    "start_time": "2023-03-02T18:57:24.172Z"
   },
   {
    "duration": 379,
    "start_time": "2023-03-02T18:57:35.471Z"
   },
   {
    "duration": 80,
    "start_time": "2023-03-02T19:05:44.269Z"
   },
   {
    "duration": 30,
    "start_time": "2023-03-02T19:06:03.589Z"
   },
   {
    "duration": 40,
    "start_time": "2023-03-02T19:06:09.020Z"
   },
   {
    "duration": 181,
    "start_time": "2023-03-02T19:07:36.765Z"
   },
   {
    "duration": 174,
    "start_time": "2023-03-02T19:08:59.822Z"
   },
   {
    "duration": 33,
    "start_time": "2023-03-02T19:09:44.451Z"
   },
   {
    "duration": 186,
    "start_time": "2023-03-02T19:10:08.240Z"
   },
   {
    "duration": 207,
    "start_time": "2023-03-02T19:19:49.367Z"
   },
   {
    "duration": 78,
    "start_time": "2023-03-02T19:20:58.138Z"
   },
   {
    "duration": 12211,
    "start_time": "2023-03-02T19:21:32.586Z"
   },
   {
    "duration": 21369,
    "start_time": "2023-03-02T19:22:26.961Z"
   },
   {
    "duration": 12145,
    "start_time": "2023-03-02T19:22:59.761Z"
   },
   {
    "duration": 11528,
    "start_time": "2023-03-02T19:25:23.669Z"
   },
   {
    "duration": 3,
    "start_time": "2023-03-02T19:25:41.970Z"
   },
   {
    "duration": 59,
    "start_time": "2023-03-02T19:26:28.589Z"
   },
   {
    "duration": 102,
    "start_time": "2023-03-02T19:37:27.466Z"
   },
   {
    "duration": 4,
    "start_time": "2023-03-02T19:47:05.350Z"
   },
   {
    "duration": 1275,
    "start_time": "2023-03-03T06:20:49.655Z"
   },
   {
    "duration": 15,
    "start_time": "2023-03-03T06:20:50.933Z"
   },
   {
    "duration": 25,
    "start_time": "2023-03-03T06:20:50.950Z"
   },
   {
    "duration": 13,
    "start_time": "2023-03-03T06:20:50.977Z"
   },
   {
    "duration": 5,
    "start_time": "2023-03-03T06:20:50.993Z"
   },
   {
    "duration": 18,
    "start_time": "2023-03-03T06:20:51.000Z"
   },
   {
    "duration": 40,
    "start_time": "2023-03-03T06:20:51.020Z"
   },
   {
    "duration": 31,
    "start_time": "2023-03-03T06:20:51.062Z"
   },
   {
    "duration": 8,
    "start_time": "2023-03-03T06:20:51.095Z"
   },
   {
    "duration": 37,
    "start_time": "2023-03-03T06:20:51.105Z"
   },
   {
    "duration": 12,
    "start_time": "2023-03-03T06:20:51.145Z"
   },
   {
    "duration": 54,
    "start_time": "2023-03-03T06:20:51.159Z"
   },
   {
    "duration": 57,
    "start_time": "2023-03-03T06:20:51.215Z"
   },
   {
    "duration": 571,
    "start_time": "2023-03-03T06:20:51.275Z"
   },
   {
    "duration": 5,
    "start_time": "2023-03-03T06:20:51.848Z"
   },
   {
    "duration": 213,
    "start_time": "2023-03-03T06:20:51.854Z"
   },
   {
    "duration": 12630,
    "start_time": "2023-03-03T06:20:52.069Z"
   },
   {
    "duration": 148,
    "start_time": "2023-03-03T06:21:04.700Z"
   },
   {
    "duration": 375,
    "start_time": "2023-03-03T06:21:04.851Z"
   },
   {
    "duration": 12440,
    "start_time": "2023-03-03T06:21:05.228Z"
   },
   {
    "duration": 74,
    "start_time": "2023-03-03T06:21:17.670Z"
   },
   {
    "duration": 6,
    "start_time": "2023-03-03T06:21:17.746Z"
   },
   {
    "duration": 5,
    "start_time": "2023-03-03T06:26:13.195Z"
   },
   {
    "duration": 2,
    "start_time": "2023-03-03T06:26:53.591Z"
   },
   {
    "duration": 160,
    "start_time": "2023-03-03T06:35:37.218Z"
   },
   {
    "duration": 17,
    "start_time": "2023-03-03T06:43:25.302Z"
   },
   {
    "duration": 15885,
    "start_time": "2023-03-03T06:44:26.416Z"
   },
   {
    "duration": 234,
    "start_time": "2023-03-03T06:55:20.762Z"
   },
   {
    "duration": 14718,
    "start_time": "2023-03-03T06:55:29.933Z"
   },
   {
    "duration": 9026,
    "start_time": "2023-03-03T06:56:35.996Z"
   },
   {
    "duration": 221,
    "start_time": "2023-03-03T06:57:18.269Z"
   },
   {
    "duration": 226,
    "start_time": "2023-03-03T06:58:58.211Z"
   },
   {
    "duration": 210,
    "start_time": "2023-03-03T06:59:09.806Z"
   },
   {
    "duration": 232,
    "start_time": "2023-03-03T06:59:50.682Z"
   },
   {
    "duration": 223,
    "start_time": "2023-03-03T07:00:17.984Z"
   },
   {
    "duration": 309,
    "start_time": "2023-03-03T07:02:08.933Z"
   },
   {
    "duration": 41,
    "start_time": "2023-03-03T07:02:31.277Z"
   },
   {
    "duration": 15,
    "start_time": "2023-03-03T07:02:31.320Z"
   },
   {
    "duration": 24,
    "start_time": "2023-03-03T07:02:31.336Z"
   },
   {
    "duration": 35,
    "start_time": "2023-03-03T07:02:31.363Z"
   },
   {
    "duration": 16,
    "start_time": "2023-03-03T07:02:31.400Z"
   },
   {
    "duration": 16,
    "start_time": "2023-03-03T07:02:31.417Z"
   },
   {
    "duration": 17,
    "start_time": "2023-03-03T07:02:31.434Z"
   },
   {
    "duration": 27,
    "start_time": "2023-03-03T07:02:31.453Z"
   },
   {
    "duration": 6,
    "start_time": "2023-03-03T07:02:31.483Z"
   },
   {
    "duration": 17,
    "start_time": "2023-03-03T07:02:31.491Z"
   },
   {
    "duration": 22,
    "start_time": "2023-03-03T07:02:31.510Z"
   },
   {
    "duration": 47,
    "start_time": "2023-03-03T07:02:31.540Z"
   },
   {
    "duration": 30,
    "start_time": "2023-03-03T07:02:31.590Z"
   },
   {
    "duration": 130,
    "start_time": "2023-03-03T07:02:31.643Z"
   },
   {
    "duration": 5,
    "start_time": "2023-03-03T07:02:31.775Z"
   },
   {
    "duration": 209,
    "start_time": "2023-03-03T07:02:31.782Z"
   },
   {
    "duration": 11448,
    "start_time": "2023-03-03T07:02:31.993Z"
   },
   {
    "duration": 199,
    "start_time": "2023-03-03T07:02:43.443Z"
   },
   {
    "duration": 200,
    "start_time": "2023-03-03T07:02:43.643Z"
   },
   {
    "duration": 11731,
    "start_time": "2023-03-03T07:02:43.845Z"
   },
   {
    "duration": 77,
    "start_time": "2023-03-03T07:02:55.578Z"
   },
   {
    "duration": 95,
    "start_time": "2023-03-03T07:02:55.657Z"
   },
   {
    "duration": 315,
    "start_time": "2023-03-03T07:02:55.754Z"
   },
   {
    "duration": 15204,
    "start_time": "2023-03-03T07:02:56.071Z"
   },
   {
    "duration": 69,
    "start_time": "2023-03-03T07:03:11.277Z"
   },
   {
    "duration": 91,
    "start_time": "2023-03-03T07:14:27.977Z"
   },
   {
    "duration": 11,
    "start_time": "2023-03-03T07:15:29.388Z"
   },
   {
    "duration": 100,
    "start_time": "2023-03-03T07:16:19.408Z"
   },
   {
    "duration": 107,
    "start_time": "2023-03-03T07:16:46.763Z"
   },
   {
    "duration": 6902,
    "start_time": "2023-03-03T07:18:16.855Z"
   },
   {
    "duration": 6893,
    "start_time": "2023-03-03T07:18:43.338Z"
   },
   {
    "duration": 21,
    "start_time": "2023-03-03T07:20:00.955Z"
   },
   {
    "duration": 50,
    "start_time": "2023-03-03T07:27:43.760Z"
   },
   {
    "duration": 17,
    "start_time": "2023-03-03T07:27:43.812Z"
   },
   {
    "duration": 17,
    "start_time": "2023-03-03T07:27:43.831Z"
   },
   {
    "duration": 15,
    "start_time": "2023-03-03T07:27:43.849Z"
   },
   {
    "duration": 5,
    "start_time": "2023-03-03T07:27:43.867Z"
   },
   {
    "duration": 8,
    "start_time": "2023-03-03T07:27:43.874Z"
   },
   {
    "duration": 17,
    "start_time": "2023-03-03T07:27:43.884Z"
   },
   {
    "duration": 53,
    "start_time": "2023-03-03T07:27:43.902Z"
   },
   {
    "duration": 6,
    "start_time": "2023-03-03T07:27:43.957Z"
   },
   {
    "duration": 9,
    "start_time": "2023-03-03T07:27:43.964Z"
   },
   {
    "duration": 8,
    "start_time": "2023-03-03T07:27:43.974Z"
   },
   {
    "duration": 64,
    "start_time": "2023-03-03T07:27:43.983Z"
   },
   {
    "duration": 34,
    "start_time": "2023-03-03T07:27:44.049Z"
   },
   {
    "duration": 144,
    "start_time": "2023-03-03T07:27:44.086Z"
   },
   {
    "duration": 10,
    "start_time": "2023-03-03T07:27:44.232Z"
   },
   {
    "duration": 204,
    "start_time": "2023-03-03T07:27:44.244Z"
   },
   {
    "duration": 11290,
    "start_time": "2023-03-03T07:27:44.449Z"
   },
   {
    "duration": 26,
    "start_time": "2023-03-03T07:27:55.741Z"
   },
   {
    "duration": 356,
    "start_time": "2023-03-03T07:27:55.769Z"
   },
   {
    "duration": 11811,
    "start_time": "2023-03-03T07:27:56.127Z"
   },
   {
    "duration": 201,
    "start_time": "2023-03-03T07:28:07.941Z"
   },
   {
    "duration": 103,
    "start_time": "2023-03-03T07:28:08.144Z"
   },
   {
    "duration": 241,
    "start_time": "2023-03-03T07:28:08.249Z"
   },
   {
    "duration": 14911,
    "start_time": "2023-03-03T07:28:08.493Z"
   },
   {
    "duration": 135,
    "start_time": "2023-03-03T07:28:23.406Z"
   },
   {
    "duration": 104,
    "start_time": "2023-03-03T07:28:23.544Z"
   },
   {
    "duration": 112,
    "start_time": "2023-03-03T07:28:23.649Z"
   },
   {
    "duration": 6764,
    "start_time": "2023-03-03T07:28:23.763Z"
   },
   {
    "duration": 25,
    "start_time": "2023-03-03T07:28:30.529Z"
   },
   {
    "duration": 183,
    "start_time": "2023-03-03T07:37:52.589Z"
   },
   {
    "duration": 11562,
    "start_time": "2023-03-03T07:39:34.596Z"
   },
   {
    "duration": 198,
    "start_time": "2023-03-03T07:41:20.266Z"
   },
   {
    "duration": 239,
    "start_time": "2023-03-03T07:42:46.203Z"
   },
   {
    "duration": 215,
    "start_time": "2023-03-03T07:43:48.193Z"
   },
   {
    "duration": 15385,
    "start_time": "2023-03-03T07:45:00.312Z"
   },
   {
    "duration": 46,
    "start_time": "2023-03-03T07:46:30.296Z"
   },
   {
    "duration": 35,
    "start_time": "2023-03-03T07:46:49.608Z"
   },
   {
    "duration": 94,
    "start_time": "2023-03-03T07:47:16.148Z"
   },
   {
    "duration": 100,
    "start_time": "2023-03-03T07:48:22.321Z"
   },
   {
    "duration": 6608,
    "start_time": "2023-03-03T07:49:49.125Z"
   },
   {
    "duration": 21,
    "start_time": "2023-03-03T07:50:35.586Z"
   },
   {
    "duration": 1329,
    "start_time": "2023-03-03T13:46:54.725Z"
   },
   {
    "duration": 13,
    "start_time": "2023-03-03T13:46:56.056Z"
   },
   {
    "duration": 18,
    "start_time": "2023-03-03T13:46:56.071Z"
   },
   {
    "duration": 11,
    "start_time": "2023-03-03T13:46:56.091Z"
   },
   {
    "duration": 4,
    "start_time": "2023-03-03T13:46:56.105Z"
   },
   {
    "duration": 9,
    "start_time": "2023-03-03T13:46:56.110Z"
   },
   {
    "duration": 30,
    "start_time": "2023-03-03T13:46:56.121Z"
   },
   {
    "duration": 19,
    "start_time": "2023-03-03T13:46:56.153Z"
   },
   {
    "duration": 6,
    "start_time": "2023-03-03T13:46:56.174Z"
   },
   {
    "duration": 13,
    "start_time": "2023-03-03T13:46:56.182Z"
   },
   {
    "duration": 7,
    "start_time": "2023-03-03T13:46:56.197Z"
   },
   {
    "duration": 69,
    "start_time": "2023-03-03T13:46:56.206Z"
   },
   {
    "duration": 31,
    "start_time": "2023-03-03T13:46:56.277Z"
   },
   {
    "duration": 605,
    "start_time": "2023-03-03T13:46:56.310Z"
   },
   {
    "duration": 5,
    "start_time": "2023-03-03T13:46:56.917Z"
   },
   {
    "duration": 196,
    "start_time": "2023-03-03T13:46:56.924Z"
   },
   {
    "duration": 11977,
    "start_time": "2023-03-03T13:46:57.122Z"
   },
   {
    "duration": 152,
    "start_time": "2023-03-03T13:47:09.101Z"
   },
   {
    "duration": 310,
    "start_time": "2023-03-03T13:47:09.256Z"
   },
   {
    "duration": 12590,
    "start_time": "2023-03-03T13:47:09.568Z"
   },
   {
    "duration": 97,
    "start_time": "2023-03-03T13:47:22.159Z"
   },
   {
    "duration": 101,
    "start_time": "2023-03-03T13:47:22.258Z"
   },
   {
    "duration": 246,
    "start_time": "2023-03-03T13:47:22.361Z"
   },
   {
    "duration": 15647,
    "start_time": "2023-03-03T13:47:22.608Z"
   },
   {
    "duration": 95,
    "start_time": "2023-03-03T13:47:38.256Z"
   },
   {
    "duration": 101,
    "start_time": "2023-03-03T13:47:38.353Z"
   },
   {
    "duration": 121,
    "start_time": "2023-03-03T13:47:38.456Z"
   },
   {
    "duration": 7114,
    "start_time": "2023-03-03T13:47:38.579Z"
   },
   {
    "duration": 154,
    "start_time": "2023-03-03T13:47:45.695Z"
   },
   {
    "duration": 22,
    "start_time": "2023-03-03T14:06:06.473Z"
   },
   {
    "duration": 119,
    "start_time": "2023-03-03T14:43:27.038Z"
   },
   {
    "duration": 11,
    "start_time": "2023-03-03T14:53:11.577Z"
   },
   {
    "duration": 23,
    "start_time": "2023-03-03T14:55:36.376Z"
   },
   {
    "duration": 26,
    "start_time": "2023-03-03T14:56:03.343Z"
   },
   {
    "duration": 25,
    "start_time": "2023-03-03T14:57:01.067Z"
   },
   {
    "duration": 23,
    "start_time": "2023-03-03T14:57:11.316Z"
   },
   {
    "duration": 39,
    "start_time": "2023-03-03T14:57:39.477Z"
   },
   {
    "duration": 36,
    "start_time": "2023-03-03T14:58:11.967Z"
   },
   {
    "duration": 49,
    "start_time": "2023-03-03T15:00:12.816Z"
   },
   {
    "duration": 37,
    "start_time": "2023-03-03T15:00:57.347Z"
   },
   {
    "duration": 56,
    "start_time": "2023-03-03T15:01:49.071Z"
   },
   {
    "duration": 76,
    "start_time": "2023-03-03T15:03:44.230Z"
   },
   {
    "duration": 33,
    "start_time": "2023-03-03T15:12:11.552Z"
   },
   {
    "duration": 46,
    "start_time": "2023-03-03T15:13:02.826Z"
   },
   {
    "duration": 15,
    "start_time": "2023-03-03T15:13:02.874Z"
   },
   {
    "duration": 30,
    "start_time": "2023-03-03T15:13:02.891Z"
   },
   {
    "duration": 29,
    "start_time": "2023-03-03T15:13:02.923Z"
   },
   {
    "duration": 11,
    "start_time": "2023-03-03T15:13:02.954Z"
   },
   {
    "duration": 11,
    "start_time": "2023-03-03T15:13:02.966Z"
   },
   {
    "duration": 22,
    "start_time": "2023-03-03T15:13:02.979Z"
   },
   {
    "duration": 23,
    "start_time": "2023-03-03T15:13:03.003Z"
   },
   {
    "duration": 6,
    "start_time": "2023-03-03T15:13:03.028Z"
   },
   {
    "duration": 20,
    "start_time": "2023-03-03T15:13:03.036Z"
   },
   {
    "duration": 9,
    "start_time": "2023-03-03T15:13:03.057Z"
   },
   {
    "duration": 39,
    "start_time": "2023-03-03T15:13:03.068Z"
   },
   {
    "duration": 61,
    "start_time": "2023-03-03T15:13:03.109Z"
   },
   {
    "duration": 143,
    "start_time": "2023-03-03T15:13:03.174Z"
   },
   {
    "duration": 5,
    "start_time": "2023-03-03T15:13:03.319Z"
   },
   {
    "duration": 199,
    "start_time": "2023-03-03T15:13:03.325Z"
   },
   {
    "duration": 12184,
    "start_time": "2023-03-03T15:13:03.525Z"
   },
   {
    "duration": 46,
    "start_time": "2023-03-03T15:13:15.711Z"
   },
   {
    "duration": 375,
    "start_time": "2023-03-03T15:13:15.758Z"
   },
   {
    "duration": 12150,
    "start_time": "2023-03-03T15:13:16.135Z"
   },
   {
    "duration": 67,
    "start_time": "2023-03-03T15:13:28.287Z"
   },
   {
    "duration": 105,
    "start_time": "2023-03-03T15:13:28.356Z"
   },
   {
    "duration": 326,
    "start_time": "2023-03-03T15:13:28.463Z"
   },
   {
    "duration": 16100,
    "start_time": "2023-03-03T15:13:28.790Z"
   },
   {
    "duration": 166,
    "start_time": "2023-03-03T15:13:44.893Z"
   },
   {
    "duration": 93,
    "start_time": "2023-03-03T15:13:45.061Z"
   },
   {
    "duration": 156,
    "start_time": "2023-03-03T15:13:45.162Z"
   },
   {
    "duration": 7349,
    "start_time": "2023-03-03T15:13:45.324Z"
   },
   {
    "duration": 85,
    "start_time": "2023-03-03T15:13:52.674Z"
   },
   {
    "duration": 4,
    "start_time": "2023-03-03T15:13:52.762Z"
   },
   {
    "duration": 161,
    "start_time": "2023-03-03T15:13:52.768Z"
   },
   {
    "duration": 42,
    "start_time": "2023-03-03T16:21:56.262Z"
   },
   {
    "duration": 12,
    "start_time": "2023-03-03T16:21:56.306Z"
   },
   {
    "duration": 13,
    "start_time": "2023-03-03T16:21:56.319Z"
   },
   {
    "duration": 13,
    "start_time": "2023-03-03T16:21:56.333Z"
   },
   {
    "duration": 4,
    "start_time": "2023-03-03T16:21:56.348Z"
   },
   {
    "duration": 6,
    "start_time": "2023-03-03T16:21:56.354Z"
   },
   {
    "duration": 14,
    "start_time": "2023-03-03T16:21:56.361Z"
   },
   {
    "duration": 16,
    "start_time": "2023-03-03T16:21:56.377Z"
   },
   {
    "duration": 6,
    "start_time": "2023-03-03T16:21:56.394Z"
   },
   {
    "duration": 10,
    "start_time": "2023-03-03T16:21:56.401Z"
   },
   {
    "duration": 39,
    "start_time": "2023-03-03T16:21:56.412Z"
   },
   {
    "duration": 39,
    "start_time": "2023-03-03T16:21:56.453Z"
   },
   {
    "duration": 33,
    "start_time": "2023-03-03T16:21:56.494Z"
   },
   {
    "duration": 137,
    "start_time": "2023-03-03T16:21:56.550Z"
   },
   {
    "duration": 4,
    "start_time": "2023-03-03T16:21:56.688Z"
   },
   {
    "duration": 196,
    "start_time": "2023-03-03T16:21:56.694Z"
   },
   {
    "duration": 12073,
    "start_time": "2023-03-03T16:21:56.893Z"
   },
   {
    "duration": 83,
    "start_time": "2023-03-03T16:22:08.967Z"
   },
   {
    "duration": 276,
    "start_time": "2023-03-03T16:22:09.053Z"
   },
   {
    "duration": 11841,
    "start_time": "2023-03-03T16:22:09.331Z"
   },
   {
    "duration": 75,
    "start_time": "2023-03-03T16:22:21.174Z"
   },
   {
    "duration": 103,
    "start_time": "2023-03-03T16:22:21.252Z"
   },
   {
    "duration": 232,
    "start_time": "2023-03-03T16:22:21.356Z"
   },
   {
    "duration": 15191,
    "start_time": "2023-03-03T16:22:21.590Z"
   },
   {
    "duration": 71,
    "start_time": "2023-03-03T16:22:36.782Z"
   },
   {
    "duration": 101,
    "start_time": "2023-03-03T16:22:36.855Z"
   },
   {
    "duration": 179,
    "start_time": "2023-03-03T16:22:36.958Z"
   },
   {
    "duration": 6818,
    "start_time": "2023-03-03T16:22:37.139Z"
   },
   {
    "duration": 91,
    "start_time": "2023-03-03T16:22:43.959Z"
   },
   {
    "duration": 4,
    "start_time": "2023-03-03T16:22:44.052Z"
   },
   {
    "duration": 161,
    "start_time": "2023-03-03T16:22:44.058Z"
   },
   {
    "duration": 11,
    "start_time": "2023-03-03T16:30:31.488Z"
   },
   {
    "duration": 42,
    "start_time": "2023-03-03T16:30:51.834Z"
   },
   {
    "duration": 12,
    "start_time": "2023-03-03T16:30:51.878Z"
   },
   {
    "duration": 23,
    "start_time": "2023-03-03T16:30:51.892Z"
   },
   {
    "duration": 30,
    "start_time": "2023-03-03T16:30:51.918Z"
   },
   {
    "duration": 13,
    "start_time": "2023-03-03T16:30:51.950Z"
   },
   {
    "duration": 7,
    "start_time": "2023-03-03T16:30:51.965Z"
   },
   {
    "duration": 17,
    "start_time": "2023-03-03T16:30:51.973Z"
   },
   {
    "duration": 31,
    "start_time": "2023-03-03T16:30:51.992Z"
   },
   {
    "duration": 6,
    "start_time": "2023-03-03T16:30:52.026Z"
   },
   {
    "duration": 20,
    "start_time": "2023-03-03T16:30:52.034Z"
   },
   {
    "duration": 11,
    "start_time": "2023-03-03T16:30:52.056Z"
   },
   {
    "duration": 39,
    "start_time": "2023-03-03T16:30:52.069Z"
   },
   {
    "duration": 51,
    "start_time": "2023-03-03T16:30:52.110Z"
   },
   {
    "duration": 151,
    "start_time": "2023-03-03T16:30:52.165Z"
   },
   {
    "duration": 4,
    "start_time": "2023-03-03T16:30:52.318Z"
   },
   {
    "duration": 187,
    "start_time": "2023-03-03T16:30:52.324Z"
   },
   {
    "duration": 11784,
    "start_time": "2023-03-03T16:30:52.513Z"
   },
   {
    "duration": 57,
    "start_time": "2023-03-03T16:31:04.299Z"
   },
   {
    "duration": 291,
    "start_time": "2023-03-03T16:31:04.449Z"
   },
   {
    "duration": 11853,
    "start_time": "2023-03-03T16:31:04.742Z"
   },
   {
    "duration": 152,
    "start_time": "2023-03-03T16:31:16.597Z"
   },
   {
    "duration": 96,
    "start_time": "2023-03-03T16:31:16.755Z"
   },
   {
    "duration": 258,
    "start_time": "2023-03-03T16:31:16.853Z"
   },
   {
    "duration": 14804,
    "start_time": "2023-03-03T16:31:17.113Z"
   },
   {
    "duration": 128,
    "start_time": "2023-03-03T16:31:31.919Z"
   },
   {
    "duration": 102,
    "start_time": "2023-03-03T16:31:32.050Z"
   },
   {
    "duration": 121,
    "start_time": "2023-03-03T16:31:32.153Z"
   },
   {
    "duration": 6984,
    "start_time": "2023-03-03T16:31:32.276Z"
   },
   {
    "duration": 90,
    "start_time": "2023-03-03T16:31:39.262Z"
   },
   {
    "duration": 93,
    "start_time": "2023-03-03T16:31:39.355Z"
   },
   {
    "duration": 68,
    "start_time": "2023-03-03T16:31:39.450Z"
   },
   {
    "duration": 226,
    "start_time": "2023-03-03T16:31:39.519Z"
   },
   {
    "duration": 66,
    "start_time": "2023-03-03T16:34:37.238Z"
   },
   {
    "duration": 3,
    "start_time": "2023-03-03T16:37:36.538Z"
   },
   {
    "duration": 64,
    "start_time": "2023-03-03T16:40:52.567Z"
   },
   {
    "duration": 43,
    "start_time": "2023-03-03T16:58:11.190Z"
   },
   {
    "duration": 13,
    "start_time": "2023-03-03T16:58:11.235Z"
   },
   {
    "duration": 26,
    "start_time": "2023-03-03T16:58:11.249Z"
   },
   {
    "duration": 29,
    "start_time": "2023-03-03T16:58:11.277Z"
   },
   {
    "duration": 7,
    "start_time": "2023-03-03T16:58:11.309Z"
   },
   {
    "duration": 23,
    "start_time": "2023-03-03T16:58:11.318Z"
   },
   {
    "duration": 25,
    "start_time": "2023-03-03T16:58:11.343Z"
   },
   {
    "duration": 37,
    "start_time": "2023-03-03T16:58:11.369Z"
   },
   {
    "duration": 5,
    "start_time": "2023-03-03T16:58:11.408Z"
   },
   {
    "duration": 29,
    "start_time": "2023-03-03T16:58:11.415Z"
   },
   {
    "duration": 10,
    "start_time": "2023-03-03T16:58:11.446Z"
   },
   {
    "duration": 81,
    "start_time": "2023-03-03T16:58:11.457Z"
   },
   {
    "duration": 32,
    "start_time": "2023-03-03T16:58:11.540Z"
   },
   {
    "duration": 140,
    "start_time": "2023-03-03T16:58:11.575Z"
   },
   {
    "duration": 6,
    "start_time": "2023-03-03T16:58:11.717Z"
   },
   {
    "duration": 198,
    "start_time": "2023-03-03T16:58:11.724Z"
   },
   {
    "duration": 12080,
    "start_time": "2023-03-03T16:58:11.924Z"
   },
   {
    "duration": 242,
    "start_time": "2023-03-03T16:58:24.006Z"
   },
   {
    "duration": 234,
    "start_time": "2023-03-03T16:58:24.250Z"
   },
   {
    "duration": 12213,
    "start_time": "2023-03-03T16:58:24.486Z"
   },
   {
    "duration": 55,
    "start_time": "2023-03-03T16:58:36.701Z"
   },
   {
    "duration": 103,
    "start_time": "2023-03-03T16:58:36.758Z"
   },
   {
    "duration": 320,
    "start_time": "2023-03-03T16:58:36.863Z"
   },
   {
    "duration": 15451,
    "start_time": "2023-03-03T16:58:37.185Z"
   },
   {
    "duration": 114,
    "start_time": "2023-03-03T16:58:52.638Z"
   },
   {
    "duration": 101,
    "start_time": "2023-03-03T16:58:52.755Z"
   },
   {
    "duration": 123,
    "start_time": "2023-03-03T16:58:52.858Z"
   },
   {
    "duration": 7111,
    "start_time": "2023-03-03T16:58:52.983Z"
   },
   {
    "duration": 162,
    "start_time": "2023-03-03T16:59:00.096Z"
   },
   {
    "duration": 67,
    "start_time": "2023-03-03T16:59:00.348Z"
   },
   {
    "duration": 233,
    "start_time": "2023-03-03T16:59:00.416Z"
   },
   {
    "duration": 94,
    "start_time": "2023-03-04T18:28:25.090Z"
   },
   {
    "duration": 1944,
    "start_time": "2023-03-04T18:29:59.836Z"
   },
   {
    "duration": 42,
    "start_time": "2023-03-04T18:30:30.902Z"
   },
   {
    "duration": 92,
    "start_time": "2023-03-04T18:31:54.976Z"
   },
   {
    "duration": 4,
    "start_time": "2023-03-04T18:47:53.111Z"
   },
   {
    "duration": 64,
    "start_time": "2023-03-04T18:47:53.117Z"
   },
   {
    "duration": 18,
    "start_time": "2023-03-04T18:47:53.188Z"
   },
   {
    "duration": 25,
    "start_time": "2023-03-04T18:47:53.210Z"
   },
   {
    "duration": 17,
    "start_time": "2023-03-04T18:47:53.237Z"
   },
   {
    "duration": 28,
    "start_time": "2023-03-04T18:47:53.257Z"
   },
   {
    "duration": 16,
    "start_time": "2023-03-04T18:47:53.288Z"
   },
   {
    "duration": 16,
    "start_time": "2023-03-04T18:47:56.691Z"
   },
   {
    "duration": 16,
    "start_time": "2023-03-04T18:48:20.111Z"
   },
   {
    "duration": 113,
    "start_time": "2023-03-04T19:03:01.729Z"
   },
   {
    "duration": 97,
    "start_time": "2023-03-04T19:10:34.612Z"
   },
   {
    "duration": 117,
    "start_time": "2023-03-04T19:14:17.634Z"
   },
   {
    "duration": 112,
    "start_time": "2023-03-04T19:14:58.012Z"
   },
   {
    "duration": 4,
    "start_time": "2023-03-04T19:15:06.530Z"
   },
   {
    "duration": 93,
    "start_time": "2023-03-04T19:15:06.537Z"
   },
   {
    "duration": 12,
    "start_time": "2023-03-04T19:15:06.631Z"
   },
   {
    "duration": 45,
    "start_time": "2023-03-04T19:15:06.646Z"
   },
   {
    "duration": 23,
    "start_time": "2023-03-04T19:15:06.694Z"
   },
   {
    "duration": 6,
    "start_time": "2023-03-04T19:15:06.719Z"
   },
   {
    "duration": 9,
    "start_time": "2023-03-04T19:15:06.727Z"
   },
   {
    "duration": 64,
    "start_time": "2023-03-04T19:15:06.738Z"
   },
   {
    "duration": 15,
    "start_time": "2023-03-04T19:15:06.806Z"
   },
   {
    "duration": 39,
    "start_time": "2023-03-04T19:15:06.822Z"
   },
   {
    "duration": 15,
    "start_time": "2023-03-04T19:15:06.870Z"
   },
   {
    "duration": 14,
    "start_time": "2023-03-04T19:15:06.887Z"
   },
   {
    "duration": 19,
    "start_time": "2023-03-04T19:15:06.903Z"
   },
   {
    "duration": 54,
    "start_time": "2023-03-04T19:15:06.924Z"
   },
   {
    "duration": 34,
    "start_time": "2023-03-04T19:15:06.983Z"
   },
   {
    "duration": 189,
    "start_time": "2023-03-04T19:15:07.019Z"
   },
   {
    "duration": 4,
    "start_time": "2023-03-04T19:15:07.210Z"
   },
   {
    "duration": 191,
    "start_time": "2023-03-04T19:15:07.216Z"
   },
   {
    "duration": 11572,
    "start_time": "2023-03-04T19:15:07.408Z"
   },
   {
    "duration": 73,
    "start_time": "2023-03-04T19:15:18.985Z"
   },
   {
    "duration": 324,
    "start_time": "2023-03-04T19:15:19.063Z"
   },
   {
    "duration": 11852,
    "start_time": "2023-03-04T19:15:19.389Z"
   },
   {
    "duration": 45,
    "start_time": "2023-03-04T19:15:31.243Z"
   },
   {
    "duration": 157,
    "start_time": "2023-03-04T19:15:31.349Z"
   },
   {
    "duration": 5,
    "start_time": "2023-03-04T19:15:40.534Z"
   },
   {
    "duration": 10,
    "start_time": "2023-03-04T19:17:36.093Z"
   },
   {
    "duration": 5,
    "start_time": "2023-03-04T19:21:30.292Z"
   },
   {
    "duration": 103,
    "start_time": "2023-03-04T19:21:30.299Z"
   },
   {
    "duration": 13,
    "start_time": "2023-03-04T19:21:30.404Z"
   },
   {
    "duration": 32,
    "start_time": "2023-03-04T19:21:30.419Z"
   },
   {
    "duration": 62,
    "start_time": "2023-03-04T19:21:30.454Z"
   },
   {
    "duration": 6,
    "start_time": "2023-03-04T19:21:30.519Z"
   },
   {
    "duration": 14,
    "start_time": "2023-03-04T19:21:30.527Z"
   },
   {
    "duration": 72,
    "start_time": "2023-03-04T19:21:30.544Z"
   },
   {
    "duration": 15,
    "start_time": "2023-03-04T19:21:30.618Z"
   },
   {
    "duration": 39,
    "start_time": "2023-03-04T19:21:30.635Z"
   },
   {
    "duration": 31,
    "start_time": "2023-03-04T19:21:30.676Z"
   },
   {
    "duration": 23,
    "start_time": "2023-03-04T19:21:30.709Z"
   },
   {
    "duration": 59,
    "start_time": "2023-03-04T19:21:30.734Z"
   },
   {
    "duration": 72,
    "start_time": "2023-03-04T19:21:30.796Z"
   },
   {
    "duration": 42,
    "start_time": "2023-03-04T19:21:30.883Z"
   },
   {
    "duration": 145,
    "start_time": "2023-03-04T19:21:30.927Z"
   },
   {
    "duration": 9,
    "start_time": "2023-03-04T19:21:31.077Z"
   },
   {
    "duration": 193,
    "start_time": "2023-03-04T19:21:31.088Z"
   },
   {
    "duration": 11740,
    "start_time": "2023-03-04T19:21:31.289Z"
   },
   {
    "duration": 136,
    "start_time": "2023-03-04T19:21:43.031Z"
   },
   {
    "duration": 290,
    "start_time": "2023-03-04T19:21:43.172Z"
   },
   {
    "duration": 11894,
    "start_time": "2023-03-04T19:21:43.465Z"
   },
   {
    "duration": 116,
    "start_time": "2023-03-04T19:21:55.364Z"
   },
   {
    "duration": 143,
    "start_time": "2023-03-04T19:21:55.483Z"
   },
   {
    "duration": 24,
    "start_time": "2023-03-04T19:21:55.628Z"
   },
   {
    "duration": 306,
    "start_time": "2023-03-04T19:21:55.654Z"
   },
   {
    "duration": 15952,
    "start_time": "2023-03-04T19:21:55.966Z"
   },
   {
    "duration": 128,
    "start_time": "2023-03-04T19:22:11.920Z"
   },
   {
    "duration": 36,
    "start_time": "2023-03-04T19:22:12.050Z"
   },
   {
    "duration": 194,
    "start_time": "2023-03-04T19:22:12.095Z"
   },
   {
    "duration": 7198,
    "start_time": "2023-03-04T19:22:12.295Z"
   },
   {
    "duration": 61,
    "start_time": "2023-03-04T19:22:19.499Z"
   },
   {
    "duration": 99,
    "start_time": "2023-03-04T19:22:19.650Z"
   },
   {
    "duration": 232,
    "start_time": "2023-03-04T19:22:19.751Z"
   },
   {
    "duration": 11,
    "start_time": "2023-03-04T20:08:57.547Z"
   },
   {
    "duration": 82,
    "start_time": "2023-03-04T20:08:57.560Z"
   },
   {
    "duration": 27,
    "start_time": "2023-03-04T20:08:57.645Z"
   },
   {
    "duration": 19,
    "start_time": "2023-03-04T20:08:57.676Z"
   },
   {
    "duration": 20,
    "start_time": "2023-03-04T20:08:57.698Z"
   },
   {
    "duration": 12,
    "start_time": "2023-03-04T20:08:57.721Z"
   },
   {
    "duration": 14,
    "start_time": "2023-03-04T20:08:57.735Z"
   },
   {
    "duration": 85,
    "start_time": "2023-03-04T20:08:57.753Z"
   },
   {
    "duration": 21,
    "start_time": "2023-03-04T20:08:57.840Z"
   },
   {
    "duration": 45,
    "start_time": "2023-03-04T20:08:57.867Z"
   },
   {
    "duration": 8,
    "start_time": "2023-03-04T20:08:58.016Z"
   },
   {
    "duration": 26,
    "start_time": "2023-03-04T20:08:58.026Z"
   },
   {
    "duration": 31,
    "start_time": "2023-03-04T20:08:58.054Z"
   },
   {
    "duration": 40,
    "start_time": "2023-03-04T20:08:58.087Z"
   },
   {
    "duration": 46,
    "start_time": "2023-03-04T20:08:58.130Z"
   },
   {
    "duration": 200,
    "start_time": "2023-03-04T20:08:58.177Z"
   },
   {
    "duration": 5,
    "start_time": "2023-03-04T20:08:58.379Z"
   },
   {
    "duration": 233,
    "start_time": "2023-03-04T20:08:58.387Z"
   },
   {
    "duration": 13309,
    "start_time": "2023-03-04T20:08:58.622Z"
   },
   {
    "duration": 59,
    "start_time": "2023-03-04T20:09:11.933Z"
   },
   {
    "duration": 386,
    "start_time": "2023-03-04T20:09:11.994Z"
   },
   {
    "duration": 12639,
    "start_time": "2023-03-04T20:09:12.383Z"
   },
   {
    "duration": 127,
    "start_time": "2023-03-04T20:09:25.024Z"
   },
   {
    "duration": 27,
    "start_time": "2023-03-04T20:09:25.153Z"
   },
   {
    "duration": 102,
    "start_time": "2023-03-04T20:09:25.182Z"
   },
   {
    "duration": 248,
    "start_time": "2023-03-04T20:09:25.286Z"
   },
   {
    "duration": 15356,
    "start_time": "2023-03-04T20:09:25.536Z"
   },
   {
    "duration": 68,
    "start_time": "2023-03-04T20:09:40.895Z"
   },
   {
    "duration": 109,
    "start_time": "2023-03-04T20:09:40.975Z"
   },
   {
    "duration": 151,
    "start_time": "2023-03-04T20:09:41.155Z"
   },
   {
    "duration": 7616,
    "start_time": "2023-03-04T20:09:41.308Z"
   },
   {
    "duration": 58,
    "start_time": "2023-03-04T20:09:48.926Z"
   },
   {
    "duration": 175,
    "start_time": "2023-03-04T20:09:49.055Z"
   },
   {
    "duration": 316,
    "start_time": "2023-03-04T20:09:49.233Z"
   },
   {
    "duration": 124,
    "start_time": "2023-03-04T20:12:39.218Z"
   },
   {
    "duration": 4,
    "start_time": "2023-03-04T21:05:50.566Z"
   },
   {
    "duration": 48,
    "start_time": "2023-03-04T21:05:50.572Z"
   },
   {
    "duration": 17,
    "start_time": "2023-03-04T21:05:50.671Z"
   },
   {
    "duration": 19,
    "start_time": "2023-03-04T21:05:50.691Z"
   },
   {
    "duration": 16,
    "start_time": "2023-03-04T21:05:50.711Z"
   },
   {
    "duration": 8,
    "start_time": "2023-03-04T21:05:50.730Z"
   },
   {
    "duration": 7,
    "start_time": "2023-03-04T21:05:50.751Z"
   },
   {
    "duration": 39,
    "start_time": "2023-03-04T21:05:50.760Z"
   },
   {
    "duration": 15,
    "start_time": "2023-03-04T21:05:50.801Z"
   },
   {
    "duration": 26,
    "start_time": "2023-03-04T21:05:50.818Z"
   },
   {
    "duration": 10,
    "start_time": "2023-03-04T21:05:50.850Z"
   },
   {
    "duration": 28,
    "start_time": "2023-03-04T21:05:50.870Z"
   },
   {
    "duration": 10,
    "start_time": "2023-03-04T21:05:50.900Z"
   },
   {
    "duration": 61,
    "start_time": "2023-03-04T21:05:50.913Z"
   },
   {
    "duration": 45,
    "start_time": "2023-03-04T21:05:50.977Z"
   },
   {
    "duration": 180,
    "start_time": "2023-03-04T21:05:51.026Z"
   },
   {
    "duration": 7,
    "start_time": "2023-03-04T21:05:51.208Z"
   },
   {
    "duration": 191,
    "start_time": "2023-03-04T21:05:51.217Z"
   },
   {
    "duration": 11185,
    "start_time": "2023-03-04T21:05:51.411Z"
   },
   {
    "duration": 157,
    "start_time": "2023-03-04T21:06:02.598Z"
   },
   {
    "duration": 299,
    "start_time": "2023-03-04T21:06:02.759Z"
   },
   {
    "duration": 11694,
    "start_time": "2023-03-04T21:06:03.061Z"
   },
   {
    "duration": 90,
    "start_time": "2023-03-04T21:06:14.762Z"
   },
   {
    "duration": 97,
    "start_time": "2023-03-04T21:06:14.854Z"
   },
   {
    "duration": 33,
    "start_time": "2023-03-04T21:06:14.954Z"
   },
   {
    "duration": 217,
    "start_time": "2023-03-04T21:06:14.990Z"
   },
   {
    "duration": 15568,
    "start_time": "2023-03-04T21:06:15.209Z"
   },
   {
    "duration": 73,
    "start_time": "2023-03-04T21:06:30.780Z"
   },
   {
    "duration": 146,
    "start_time": "2023-03-04T21:06:30.855Z"
   },
   {
    "duration": 187,
    "start_time": "2023-03-04T21:06:31.003Z"
   },
   {
    "duration": 7534,
    "start_time": "2023-03-04T21:06:31.192Z"
   },
   {
    "duration": 46,
    "start_time": "2023-03-04T21:06:38.727Z"
   },
   {
    "duration": 241,
    "start_time": "2023-03-04T21:06:38.776Z"
   },
   {
    "duration": 245,
    "start_time": "2023-03-04T21:06:39.020Z"
   },
   {
    "duration": 1638,
    "start_time": "2023-03-06T07:38:56.707Z"
   },
   {
    "duration": 84,
    "start_time": "2023-03-06T07:38:58.349Z"
   },
   {
    "duration": 14,
    "start_time": "2023-03-06T07:38:58.435Z"
   },
   {
    "duration": 18,
    "start_time": "2023-03-06T07:38:58.451Z"
   },
   {
    "duration": 12,
    "start_time": "2023-03-06T07:38:58.471Z"
   },
   {
    "duration": 5,
    "start_time": "2023-03-06T07:38:58.485Z"
   },
   {
    "duration": 6,
    "start_time": "2023-03-06T07:38:58.492Z"
   },
   {
    "duration": 19,
    "start_time": "2023-03-06T07:38:58.500Z"
   },
   {
    "duration": 39,
    "start_time": "2023-03-06T07:38:58.520Z"
   },
   {
    "duration": 18,
    "start_time": "2023-03-06T07:38:58.561Z"
   },
   {
    "duration": 6,
    "start_time": "2023-03-06T07:38:58.581Z"
   },
   {
    "duration": 10,
    "start_time": "2023-03-06T07:38:58.589Z"
   },
   {
    "duration": 11,
    "start_time": "2023-03-06T07:38:58.601Z"
   },
   {
    "duration": 36,
    "start_time": "2023-03-06T07:38:58.649Z"
   },
   {
    "duration": 31,
    "start_time": "2023-03-06T07:38:58.686Z"
   },
   {
    "duration": 152,
    "start_time": "2023-03-06T07:38:58.719Z"
   },
   {
    "duration": 4,
    "start_time": "2023-03-06T07:38:58.873Z"
   },
   {
    "duration": 166,
    "start_time": "2023-03-06T07:38:58.878Z"
   },
   {
    "duration": 10529,
    "start_time": "2023-03-06T07:38:59.048Z"
   },
   {
    "duration": 85,
    "start_time": "2023-03-06T07:39:09.579Z"
   },
   {
    "duration": 183,
    "start_time": "2023-03-06T07:39:09.750Z"
   },
   {
    "duration": 10627,
    "start_time": "2023-03-06T07:39:09.935Z"
   },
   {
    "duration": 85,
    "start_time": "2023-03-06T07:39:20.564Z"
   },
   {
    "duration": 100,
    "start_time": "2023-03-06T07:39:20.652Z"
   },
   {
    "duration": 21,
    "start_time": "2023-03-06T07:39:20.753Z"
   },
   {
    "duration": 207,
    "start_time": "2023-03-06T07:39:20.776Z"
   }
  ],
  "kernelspec": {
   "display_name": "Python 3 (ipykernel)",
   "language": "python",
   "name": "python3"
  },
  "language_info": {
   "codemirror_mode": {
    "name": "ipython",
    "version": 3
   },
   "file_extension": ".py",
   "mimetype": "text/x-python",
   "name": "python",
   "nbconvert_exporter": "python",
   "pygments_lexer": "ipython3",
   "version": "3.9.13"
  },
  "toc": {
   "base_numbering": 1,
   "nav_menu": {},
   "number_sections": true,
   "sideBar": true,
   "skip_h1_title": true,
   "title_cell": "Содержание",
   "title_sidebar": "Contents",
   "toc_cell": true,
   "toc_position": {},
   "toc_section_display": true,
   "toc_window_display": true
  }
 },
 "nbformat": 4,
 "nbformat_minor": 2
}
